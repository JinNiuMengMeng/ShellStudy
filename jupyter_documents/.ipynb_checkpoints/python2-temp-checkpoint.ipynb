{
 "cells": [
  {
   "cell_type": "code",
   "execution_count": null,
   "metadata": {},
   "outputs": [],
   "source": "import os\nimport glob\ndef search_file(start_dir):\n    os.chdir(start_dir)\n    for each_file in os.listdir(os.curdir):\n        if os.path.isdir(each_file):\n            search_file(each_file)\n            os.chdir(os.pardir)\n        else:\n            file_path = os.getcwd() + os.sep + each_file\n            with open(file_path) as f:\n                f.readline()\n                line_con = f.readline()\n                if \"assets\" in line_con:\n                    # os.remove(file_path)\n                    print file_path, line_con\n\nfor name in glob.glob(r'/cache*'):\n    search_file(name + \"/\" + source_id)\n"
  },
  {
   "cell_type": "code",
   "execution_count": null,
   "metadata": {},
   "outputs": [],
   "source": ""
  }
 ],
 "metadata": {
  "kernelspec": {
   "display_name": "Python 2",
   "language": "python",
   "name": "python2"
  },
  "language_info": {
   "codemirror_mode": {
    "name": "ipython",
    "version": 2
   },
   "file_extension": ".py",
   "mimetype": "text/x-python",
   "name": "python",
   "nbconvert_exporter": "python",
   "pygments_lexer": "ipython2",
   "version": "2.7.14"
  }
 },
 "nbformat": 4,
 "nbformat_minor": 4
}
