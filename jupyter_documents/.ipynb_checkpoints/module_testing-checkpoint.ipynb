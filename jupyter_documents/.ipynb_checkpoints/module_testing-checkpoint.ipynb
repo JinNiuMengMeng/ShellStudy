{
 "cells": [
  {
   "cell_type": "markdown",
   "metadata": {},
   "source": [
    "# 一、 日期转换"
   ]
  },
  {
   "cell_type": "markdown",
   "metadata": {},
   "source": [
    "## 1.1 一个月之前的时间"
   ]
  },
  {
   "cell_type": "code",
   "execution_count": 67,
   "metadata": {},
   "outputs": [
    {
     "name": "stdout",
     "output_type": "stream",
     "text": [
      "2019-09-20 13:54:14.643872\n",
      "<class 'str'>\n",
      "2019-08-21T13:54:14.644516\n"
     ]
    }
   ],
   "source": [
    "# 方法一\n",
    "import datetime\n",
    "now = datetime.datetime.now()\n",
    "print(now)\n",
    "then = (now - datetime.timedelta(days=30)).isoformat()\n",
    "print(type(then))\n",
    "from datetime import datetime\n",
    "print((datetime.now() - timedelta(days=30)).isoformat())\n",
    "\n",
    "\n",
    "# 方法二\n",
    "import datetime\n",
    "from dateutil import relativedelta\n",
    "\n",
    "now = datetime.datetime.now()\n",
    "print(now)\n",
    "print(now + relativedelta.relativedelta(months=-1))"
   ]
  },
  {
   "cell_type": "markdown",
   "metadata": {},
   "source": [
    "## 1.2 获取当天凌晨的时间戳"
   ]
  },
  {
   "cell_type": "code",
   "execution_count": 52,
   "metadata": {},
   "outputs": [
    {
     "name": "stdout",
     "output_type": "stream",
     "text": [
      "1568908800.0\n"
     ]
    }
   ],
   "source": [
    "import time\n",
    "import datetime\n",
    "\n",
    "d = time.mktime(datetime.datetime.now().date().timetuple())\n",
    "print(d)"
   ]
  },
  {
   "cell_type": "markdown",
   "metadata": {},
   "source": [
    "## 1.3 时间加减"
   ]
  },
  {
   "cell_type": "code",
   "execution_count": 53,
   "metadata": {},
   "outputs": [
    {
     "name": "stdout",
     "output_type": "stream",
     "text": [
      "2019-09-20 11:30:53.210175\n"
     ]
    }
   ],
   "source": [
    "import datetime\n",
    "from datetime import timedelta\n",
    "\n",
    "print(datetime.datetime.now() + timedelta(days=0, seconds=0, minutes=0, hours=0, weeks=0))"
   ]
  },
  {
   "cell_type": "markdown",
   "metadata": {},
   "source": [
    "## 1.4 时间戳 `->` 转日期(`datetime格式`)"
   ]
  },
  {
   "cell_type": "code",
   "execution_count": 2,
   "metadata": {},
   "outputs": [
    {
     "name": "stdout",
     "output_type": "stream",
     "text": [
      "2019-09-25 01:58:41.559848\n",
      "2019-09-25 09:58:41.559848\n"
     ]
    }
   ],
   "source": [
    "import datetime\n",
    "import time\n",
    "\n",
    "now_timestamp = time.time()\n",
    "a = datetime.datetime.utcfromtimestamp(now_timestamp)   # UTC日期, 亚洲时间比UTC快8个小时\n",
    "b = datetime.datetime.fromtimestamp(now_timestamp)\n",
    "\n",
    "print(a)\n",
    "print(b)"
   ]
  },
  {
   "cell_type": "markdown",
   "metadata": {},
   "source": [
    "## 1.5 时间戳 `->` 格林尼治时间格式(`datetime格式`)"
   ]
  },
  {
   "cell_type": "code",
   "execution_count": 55,
   "metadata": {},
   "outputs": [
    {
     "name": "stdout",
     "output_type": "stream",
     "text": [
      "2019-09-20T03:30:53.312225\n"
     ]
    }
   ],
   "source": [
    "import datetime\n",
    "\n",
    "now_timestamp = time.time()\n",
    "b = datetime.datetime.utcfromtimestamp(now_timestamp).isoformat()\n",
    "print(b)"
   ]
  },
  {
   "cell_type": "markdown",
   "metadata": {},
   "source": [
    "## 1.6 `datetime -> 时间戳`"
   ]
  },
  {
   "cell_type": "code",
   "execution_count": 56,
   "metadata": {},
   "outputs": [
    {
     "name": "stdout",
     "output_type": "stream",
     "text": [
      "当前日期:2019-09-20 11:30:53.373611\n",
      "当前日期对应的时间戳:1568950253.0\n"
     ]
    }
   ],
   "source": [
    "import datetime\n",
    "import time\n",
    "\n",
    "d_time = datetime.datetime.now()\n",
    "ans_time = time.mktime(d_time.timetuple())\n",
    "print(f\"当前日期:{d_time}\")\n",
    "print(f\"当前日期对应的时间戳:{ans_time}\")"
   ]
  },
  {
   "cell_type": "markdown",
   "metadata": {},
   "source": [
    "\n",
    "## 1.7 字符串`str -> datetime`"
   ]
  },
  {
   "cell_type": "code",
   "execution_count": 57,
   "metadata": {},
   "outputs": [
    {
     "name": "stdout",
     "output_type": "stream",
     "text": [
      "原字符串str_date: 2015-6-1 18:19:59\n",
      "原字符串str_date类型: <class 'str'>\n",
      "\n",
      "转换后date: 2015-06-01 18:19:59\n",
      "转换后date类型: <class 'datetime.datetime'>\n"
     ]
    }
   ],
   "source": [
    "import time\n",
    "from datetime import datetime\n",
    "\n",
    "str_date = '2015-6-1 18:19:59'\n",
    "date = datetime.strptime(str_date, '%Y-%m-%d %H:%M:%S')\n",
    "\n",
    "print(f\"原字符串str_date: {str_date}\")\n",
    "print(f\"原字符串str_date类型: {type(str_date)}\\n\")\n",
    "print(f\"转换后date: {date}\")\n",
    "print(f\"转换后date类型: {type(date)}\")"
   ]
  },
  {
   "cell_type": "markdown",
   "metadata": {},
   "source": [
    "\n",
    "## 1.8 `datetime -> str`\n"
   ]
  },
  {
   "cell_type": "code",
   "execution_count": 58,
   "metadata": {},
   "outputs": [
    {
     "name": "stdout",
     "output_type": "stream",
     "text": [
      "Fri, Sep 20 11:30:53\n",
      "2019-09-20 11:30:53\n"
     ]
    }
   ],
   "source": [
    "import datetime\n",
    "\n",
    "print(datetime.datetime.now().strftime('%a, %b %d %H:%M:%S'))\n",
    "print(datetime.datetime.now().strftime('%Y-%m-%d %H:%M:%S'))"
   ]
  },
  {
   "cell_type": "code",
   "execution_count": 69,
   "metadata": {},
   "outputs": [
    {
     "name": "stdout",
     "output_type": "stream",
     "text": [
      "0\n"
     ]
    }
   ],
   "source": [
    "a = 1\n",
    "a ^= 2\n",
    "a ^= 3\n",
    "print(a)"
   ]
  },
  {
   "cell_type": "markdown",
   "metadata": {},
   "source": [
    "## 1.9 一个月前的时间"
   ]
  },
  {
   "cell_type": "code",
   "execution_count": 3,
   "metadata": {},
   "outputs": [
    {
     "name": "stdout",
     "output_type": "stream",
     "text": [
      "2019-09-23 14:32:17.084168\n",
      "2019-08-23 14:32:17.084168\n"
     ]
    }
   ],
   "source": [
    "import datetime\n",
    "from dateutil import relativedelta\n",
    "\n",
    "now = datetime.datetime.now()\n",
    "print(now)\n",
    "print(now + relativedelta.relativedelta(months=-1))"
   ]
  },
  {
   "cell_type": "code",
   "execution_count": 7,
   "metadata": {},
   "outputs": [
    {
     "data": {
      "text/plain": [
       "[6, 7, 8]"
      ]
     },
     "execution_count": 7,
     "metadata": {},
     "output_type": "execute_result"
    }
   ],
   "source": [
    "data = [4, 5, 6, 7, 8, 9]\n",
    "data[2:-1]"
   ]
  },
  {
   "cell_type": "markdown",
   "metadata": {},
   "source": [
    "## `rename`文件名"
   ]
  },
  {
   "cell_type": "code",
   "execution_count": 39,
   "metadata": {},
   "outputs": [
    {
     "name": "stdout",
     "output_type": "stream",
     "text": [
      "[]\n"
     ]
    }
   ],
   "source": [
    "import os\n",
    "\n",
    "file_dir = \"/home/ubuntu/Videos/基础-2019/\"\n",
    "\n",
    "for root, dirs, files in os.walk(file_dir):\n",
    "    # print(root) #当前目录路径  \n",
    "    # print(dirs) #当前路径下所有子目录  \n",
    "    # print(files) #当前路径下所有非目录子文件 \n",
    "    pass\n"
   ]
  },
  {
   "cell_type": "code",
   "execution_count": 2,
   "metadata": {},
   "outputs": [],
   "source": [
    "#coding:utf-8\n",
    "import os\n",
    "\n",
    "if __name__ == '__main__':\n",
    "    path = \"/home/ubuntu/Videos/基础-2019/day01_概述\"\n",
    "    allfile = os.listdir(path)\n",
    "    os.chdir(path)\n",
    "    for file in allfile:\n",
    "        current_path = os.path.dirname(file)\n",
    "        if \"-Java语言基础\" in file:\n",
    "            os.renames(file, file.replace(\"-Java语言基础\", \"\"))\n",
    "\n"
   ]
  },
  {
   "cell_type": "code",
   "execution_count": 1,
   "metadata": {},
   "outputs": [
    {
     "ename": "SMTPDataError",
     "evalue": "(554, b'DT:SPM 163 smtp9,DcCowADX22RBTLJd6BJUGQ--.3037S2 1571966017,please see http://mail.163.com/help/help_spam_16.htm?ip=117.28.112.158&hostid=smtp9&time=1571966017')",
     "output_type": "error",
     "traceback": [
      "\u001b[0;31m---------------------------------------------------------------------------\u001b[0m",
      "\u001b[0;31mSMTPDataError\u001b[0m                             Traceback (most recent call last)",
      "\u001b[0;32m<ipython-input-1-a66a147386c5>\u001b[0m in \u001b[0;36m<module>\u001b[0;34m\u001b[0m\n\u001b[1;32m     20\u001b[0m \u001b[0;32mfor\u001b[0m \u001b[0muser\u001b[0m \u001b[0;32min\u001b[0m \u001b[0mreceivers\u001b[0m\u001b[0;34m:\u001b[0m\u001b[0;34m\u001b[0m\u001b[0;34m\u001b[0m\u001b[0m\n\u001b[1;32m     21\u001b[0m     \u001b[0mmsg\u001b[0m\u001b[0;34m[\u001b[0m\u001b[0;34m\"To\"\u001b[0m\u001b[0;34m]\u001b[0m \u001b[0;34m=\u001b[0m \u001b[0muser\u001b[0m\u001b[0;34m\u001b[0m\u001b[0;34m\u001b[0m\u001b[0m\n\u001b[0;32m---> 22\u001b[0;31m     \u001b[0mserver\u001b[0m\u001b[0;34m.\u001b[0m\u001b[0msendmail\u001b[0m\u001b[0;34m(\u001b[0m\u001b[0msender\u001b[0m\u001b[0;34m,\u001b[0m \u001b[0muser\u001b[0m\u001b[0;34m,\u001b[0m \u001b[0mmsg\u001b[0m\u001b[0;34m.\u001b[0m\u001b[0mas_string\u001b[0m\u001b[0;34m(\u001b[0m\u001b[0;34m)\u001b[0m\u001b[0;34m)\u001b[0m\u001b[0;34m\u001b[0m\u001b[0;34m\u001b[0m\u001b[0m\n\u001b[0m\u001b[1;32m     23\u001b[0m     \u001b[0mprint\u001b[0m\u001b[0;34m(\u001b[0m\u001b[0;34m'------------end'\u001b[0m\u001b[0;34m)\u001b[0m\u001b[0;34m\u001b[0m\u001b[0;34m\u001b[0m\u001b[0m\n\u001b[1;32m     24\u001b[0m \u001b[0mserver\u001b[0m\u001b[0;34m.\u001b[0m\u001b[0mquit\u001b[0m\u001b[0;34m(\u001b[0m\u001b[0;34m)\u001b[0m\u001b[0;34m\u001b[0m\u001b[0;34m\u001b[0m\u001b[0m\n",
      "\u001b[0;32m/usr/lib/python3.6/smtplib.py\u001b[0m in \u001b[0;36msendmail\u001b[0;34m(self, from_addr, to_addrs, msg, mail_options, rcpt_options)\u001b[0m\n\u001b[1;32m    886\u001b[0m             \u001b[0;32melse\u001b[0m\u001b[0;34m:\u001b[0m\u001b[0;34m\u001b[0m\u001b[0;34m\u001b[0m\u001b[0m\n\u001b[1;32m    887\u001b[0m                 \u001b[0mself\u001b[0m\u001b[0;34m.\u001b[0m\u001b[0m_rset\u001b[0m\u001b[0;34m(\u001b[0m\u001b[0;34m)\u001b[0m\u001b[0;34m\u001b[0m\u001b[0;34m\u001b[0m\u001b[0m\n\u001b[0;32m--> 888\u001b[0;31m             \u001b[0;32mraise\u001b[0m \u001b[0mSMTPDataError\u001b[0m\u001b[0;34m(\u001b[0m\u001b[0mcode\u001b[0m\u001b[0;34m,\u001b[0m \u001b[0mresp\u001b[0m\u001b[0;34m)\u001b[0m\u001b[0;34m\u001b[0m\u001b[0;34m\u001b[0m\u001b[0m\n\u001b[0m\u001b[1;32m    889\u001b[0m         \u001b[0;31m#if we got here then somebody got our mail\u001b[0m\u001b[0;34m\u001b[0m\u001b[0;34m\u001b[0m\u001b[0;34m\u001b[0m\u001b[0m\n\u001b[1;32m    890\u001b[0m         \u001b[0;32mreturn\u001b[0m \u001b[0msenderrs\u001b[0m\u001b[0;34m\u001b[0m\u001b[0;34m\u001b[0m\u001b[0m\n",
      "\u001b[0;31mSMTPDataError\u001b[0m: (554, b'DT:SPM 163 smtp9,DcCowADX22RBTLJd6BJUGQ--.3037S2 1571966017,please see http://mail.163.com/help/help_spam_16.htm?ip=117.28.112.158&hostid=smtp9&time=1571966017')"
     ]
    }
   ],
   "source": [
    "import smtplib\n",
    "import telnetlib\n",
    "import time\n",
    "from email.header import Header\n",
    "from email.mime.text import MIMEText\n",
    "\n",
    "mail_host = \"smtp.163.com\"  # 设置服务器\n",
    "mail_user = \"hello_lwz@163.com\"  # 用户名\n",
    "mail_pass = \"lwz199512\"  # 口令\n",
    "sender = mail_user\n",
    "receivers = ['helloliuwz@gmail.com','star1110@dingtalk.com']\n",
    "message = \"\"\"\n",
    "the error:Rsync hkhk-123 failed \n",
    "\"\"\"\n",
    "msg = MIMEText(message, 'plain', 'utf-8')\n",
    "msg[\"Subject\"] = Header(\"Domain Deploy Error\",\"utf-8\")\n",
    "msg[\"From\"] = sender\n",
    "server = smtplib.SMTP_SSL(mail_host,465)\n",
    "server.login(mail_user, mail_pass)\n",
    "for user in receivers:\n",
    "    msg[\"To\"] = user\n",
    "    server.sendmail(sender, user, msg.as_string())\n",
    "    print('------------end')\n",
    "server.quit()"
   ]
  },
  {
   "cell_type": "code",
   "execution_count": null,
   "metadata": {},
   "outputs": [],
   "source": []
  },
  {
   "cell_type": "code",
   "execution_count": null,
   "metadata": {},
   "outputs": [],
   "source": []
  },
  {
   "cell_type": "code",
   "execution_count": null,
   "metadata": {},
   "outputs": [],
   "source": []
  },
  {
   "cell_type": "code",
   "execution_count": null,
   "metadata": {},
   "outputs": [],
   "source": []
  },
  {
   "cell_type": "code",
   "execution_count": null,
   "metadata": {},
   "outputs": [],
   "source": []
  },
  {
   "cell_type": "code",
   "execution_count": null,
   "metadata": {},
   "outputs": [],
   "source": []
  },
  {
   "cell_type": "code",
   "execution_count": null,
   "metadata": {},
   "outputs": [],
   "source": []
  },
  {
   "cell_type": "code",
   "execution_count": null,
   "metadata": {},
   "outputs": [],
   "source": []
  },
  {
   "cell_type": "code",
   "execution_count": null,
   "metadata": {},
   "outputs": [],
   "source": []
  },
  {
   "cell_type": "code",
   "execution_count": null,
   "metadata": {},
   "outputs": [],
   "source": []
  },
  {
   "cell_type": "code",
   "execution_count": null,
   "metadata": {},
   "outputs": [],
   "source": []
  },
  {
   "cell_type": "code",
   "execution_count": null,
   "metadata": {},
   "outputs": [],
   "source": []
  },
  {
   "cell_type": "code",
   "execution_count": null,
   "metadata": {},
   "outputs": [],
   "source": []
  },
  {
   "cell_type": "code",
   "execution_count": null,
   "metadata": {},
   "outputs": [],
   "source": []
  },
  {
   "cell_type": "code",
   "execution_count": null,
   "metadata": {},
   "outputs": [],
   "source": []
  },
  {
   "cell_type": "code",
   "execution_count": null,
   "metadata": {},
   "outputs": [],
   "source": []
  },
  {
   "cell_type": "code",
   "execution_count": null,
   "metadata": {},
   "outputs": [],
   "source": []
  },
  {
   "cell_type": "code",
   "execution_count": null,
   "metadata": {},
   "outputs": [],
   "source": []
  }
 ],
 "metadata": {
  "kernelspec": {
   "display_name": "Python 3",
   "language": "python",
   "name": "python3"
  },
  "language_info": {
   "codemirror_mode": {
    "name": "ipython",
    "version": 3
   },
   "file_extension": ".py",
   "mimetype": "text/x-python",
   "name": "python",
   "nbconvert_exporter": "python",
   "pygments_lexer": "ipython3",
   "version": "3.6.8"
  }
 },
 "nbformat": 4,
 "nbformat_minor": 2
}
