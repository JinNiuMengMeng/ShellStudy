{
 "cells": [
  {
   "cell_type": "markdown",
   "metadata": {},
   "source": [
    "服务器|`gunicorn worker`|总请求数|失败数|并发数|总时间(s)|平均每秒处理个数|每个请求处理时间(ms)|每个并发处理时间(ms)|90%的请求响应总时间(ms)\n",
    "---|--|---|---|---|---|---|---|---|---\n",
    "192.168.0.151|1|100|0|100|6.45|15.50|6450.444|64.504|6450\n",
    "192.168.0.151|1|1000|574|500|13.103|52.50|9524.402|19.049|18606\n",
    "192.168.0.155|8|1000|0|100|47.472|21.06|4747.214|47.472|28552\n",
    "192.168.0.155|8|1000|0|500|46.751|21.39|23375.282|48.044|39422\n",
    "192.168.0.151|1|1000|574|500|13.103|52.50|9524.402|19.049|18606\n"
   ]
  },
  {
   "cell_type": "markdown",
   "metadata": {},
   "source": []
  },
  {
   "cell_type": "markdown",
   "metadata": {},
   "source": []
  },
  {
   "cell_type": "markdown",
   "metadata": {},
   "source": []
  },
  {
   "cell_type": "markdown",
   "metadata": {},
   "source": []
  },
  {
   "cell_type": "markdown",
   "metadata": {},
   "source": []
  },
  {
   "cell_type": "code",
   "execution_count": null,
   "metadata": {},
   "outputs": [],
   "source": []
  },
  {
   "cell_type": "code",
   "execution_count": null,
   "metadata": {},
   "outputs": [],
   "source": []
  }
 ],
 "metadata": {
  "kernelspec": {
   "display_name": "Python 3",
   "language": "python",
   "name": "python3"
  },
  "language_info": {
   "codemirror_mode": {
    "name": "ipython",
    "version": 3
   },
   "file_extension": ".py",
   "mimetype": "text/x-python",
   "name": "python",
   "nbconvert_exporter": "python",
   "pygments_lexer": "ipython3",
   "version": "3.6.7"
  }
 },
 "nbformat": 4,
 "nbformat_minor": 2
}
