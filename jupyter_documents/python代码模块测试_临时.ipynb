{
 "cells": [
  {
   "cell_type": "markdown",
   "metadata": {},
   "source": [
    "## 类的继承与类中方法的调用问题"
   ]
  },
  {
   "cell_type": "code",
   "execution_count": 12,
   "metadata": {},
   "outputs": [],
   "source": [
    "class Test_first(object):\n",
    "    @classmethod\n",
    "    def test_fi(cls):\n",
    "        cls.test_se()\n",
    "\n",
    "class Test_second(object):\n",
    "    @classmethod\n",
    "    def test_se(cls):\n",
    "        print(\"----success----\")\n",
    "\n",
    "class Test_third(Test_first, Test_second):\n",
    "    @classmethod\n",
    "    def test_th(cls):\n",
    "        cls.test_fi()    # 该类中并没有test_fi这个方法, 但是可以调用, 因为继承了Test_first"
   ]
  },
  {
   "cell_type": "code",
   "execution_count": 13,
   "metadata": {},
   "outputs": [
    {
     "name": "stdout",
     "output_type": "stream",
     "text": [
      "----success----\n"
     ]
    }
   ],
   "source": [
    "Test_third.test_th()"
   ]
  },
  {
   "cell_type": "markdown",
   "metadata": {},
   "source": [
    "## 字典中的None检测 "
   ]
  },
  {
   "cell_type": "code",
   "execution_count": 84,
   "metadata": {},
   "outputs": [],
   "source": [
    "my_test = {\n",
    "    \"a\": 123,\n",
    "    \"b\": \"   \",\n",
    "    \"d\": None,\n",
    "    \"c\": \"\"\n",
    "}"
   ]
  },
  {
   "cell_type": "code",
   "execution_count": 85,
   "metadata": {},
   "outputs": [],
   "source": [
    "my_test_b = my_test[\"b\"].lower() if \"b\" in my_test and my_test['b'] is not None or my_test['b'] else None"
   ]
  },
  {
   "cell_type": "code",
   "execution_count": 86,
   "metadata": {},
   "outputs": [
    {
     "name": "stdout",
     "output_type": "stream",
     "text": [
      "   \n"
     ]
    }
   ],
   "source": [
    "print(my_test_b)"
   ]
  },
  {
   "cell_type": "code",
   "execution_count": 87,
   "metadata": {},
   "outputs": [],
   "source": [
    "def judge_paramter(filed, kwargs):\n",
    "    if filed in kwargs.keys():\n",
    "        if kwargs[filed] is None:\n",
    "            return {\"result\": False, \"message\": \"值为None\"}\n",
    "        elif isinstance(kwargs[filed], str):\n",
    "            if kwargs[filed].strip():\n",
    "                return {\"result\": True, \"message\": \"success\"}\n",
    "            else:\n",
    "                return {\"result\": False, \"message\": \"空字符串\"}\n",
    "        else:\n",
    "            return {\"result\": True, \"message\": \"success\"}\n",
    "    else:\n",
    "        return {\"result\": False, \"message\": \"缺少参数\"}"
   ]
  },
  {
   "cell_type": "code",
   "execution_count": 88,
   "metadata": {},
   "outputs": [
    {
     "name": "stdout",
     "output_type": "stream",
     "text": [
      "1\n"
     ]
    }
   ],
   "source": [
    "print(judge_paramter(\"b\", my_test))"
   ]
  },
  {
   "cell_type": "markdown",
   "metadata": {},
   "source": [
    "## Re正则"
   ]
  },
  {
   "cell_type": "code",
   "execution_count": 1,
   "metadata": {},
   "outputs": [],
   "source": [
    "import re"
   ]
  },
  {
   "cell_type": "code",
   "execution_count": null,
   "metadata": {},
   "outputs": [],
   "source": [
    "text = \"\"\"\n",
    "\n",
    "\"\"\""
   ]
  },
  {
   "cell_type": "code",
   "execution_count": 9,
   "metadata": {},
   "outputs": [
    {
     "name": "stdout",
     "output_type": "stream",
     "text": [
      "900000\n"
     ]
    }
   ],
   "source": [
    "import hashlib\n",
    "import uuid\n",
    "\n",
    "a = set()\n",
    "\n",
    "def get_uuid():\n",
    "    uid = hashlib.md5(str(uuid.uuid1()).encode(\"utf-8\")).hexdigest()\n",
    "    a.add(uid)\n",
    "    \n",
    "for i in range(900000):\n",
    "    get_uuid()\n",
    "    \n",
    "print(len(a))"
   ]
  },
  {
   "cell_type": "code",
   "execution_count": null,
   "metadata": {},
   "outputs": [],
   "source": []
  },
  {
   "cell_type": "code",
   "execution_count": null,
   "metadata": {},
   "outputs": [],
   "source": []
  },
  {
   "cell_type": "code",
   "execution_count": null,
   "metadata": {},
   "outputs": [],
   "source": []
  },
  {
   "cell_type": "code",
   "execution_count": null,
   "metadata": {},
   "outputs": [],
   "source": []
  },
  {
   "cell_type": "code",
   "execution_count": null,
   "metadata": {},
   "outputs": [],
   "source": []
  }
 ],
 "metadata": {
  "kernelspec": {
   "display_name": "Python 3",
   "language": "python",
   "name": "python3"
  },
  "language_info": {
   "codemirror_mode": {
    "name": "ipython",
    "version": 3
   },
   "file_extension": ".py",
   "mimetype": "text/x-python",
   "name": "python",
   "nbconvert_exporter": "python",
   "pygments_lexer": "ipython3",
   "version": "3.6.8"
  }
 },
 "nbformat": 4,
 "nbformat_minor": 2
}
