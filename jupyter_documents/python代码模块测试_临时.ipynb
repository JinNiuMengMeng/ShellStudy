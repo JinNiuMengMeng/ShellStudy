{
 "cells": [
  {
   "cell_type": "markdown",
   "metadata": {},
   "source": [
    "## 类的继承与类中方法的调用问题"
   ]
  },
  {
   "cell_type": "code",
   "execution_count": 12,
   "metadata": {},
   "outputs": [],
   "source": [
    "class Test_first(object):\n",
    "    @classmethod\n",
    "    def test_fi(cls):\n",
    "        cls.test_se()\n",
    "\n",
    "class Test_second(object):\n",
    "    @classmethod\n",
    "    def test_se(cls):\n",
    "        print(\"----success----\")\n",
    "\n",
    "class Test_third(Test_first, Test_second):\n",
    "    @classmethod\n",
    "    def test_th(cls):\n",
    "        cls.test_fi()    # 该类中并没有test_fi这个方法, 但是可以调用, 因为继承了Test_first"
   ]
  },
  {
   "cell_type": "code",
   "execution_count": 13,
   "metadata": {},
   "outputs": [
    {
     "name": "stdout",
     "output_type": "stream",
     "text": [
      "----success----\n"
     ]
    }
   ],
   "source": [
    "Test_third.test_th()"
   ]
  },
  {
   "cell_type": "markdown",
   "metadata": {},
   "source": [
    "## 字典中的None检测 "
   ]
  },
  {
   "cell_type": "code",
   "execution_count": 84,
   "metadata": {},
   "outputs": [],
   "source": [
    "my_test = {\n",
    "    \"a\": 123,\n",
    "    \"b\": \"   \",\n",
    "    \"d\": None,\n",
    "    \"c\": \"\"\n",
    "}"
   ]
  },
  {
   "cell_type": "code",
   "execution_count": 85,
   "metadata": {},
   "outputs": [],
   "source": [
    "my_test_b = my_test[\"b\"].lower() if \"b\" in my_test and my_test['b'] is not None or my_test['b'] else None"
   ]
  },
  {
   "cell_type": "code",
   "execution_count": 86,
   "metadata": {},
   "outputs": [
    {
     "name": "stdout",
     "output_type": "stream",
     "text": [
      "   \n"
     ]
    }
   ],
   "source": [
    "print(my_test_b)"
   ]
  },
  {
   "cell_type": "code",
   "execution_count": 87,
   "metadata": {},
   "outputs": [],
   "source": [
    "def judge_paramter(filed, kwargs):\n",
    "    if filed in kwargs.keys():\n",
    "        if kwargs[filed] is None:\n",
    "            return {\"result\": False, \"message\": \"值为None\"}\n",
    "        elif isinstance(kwargs[filed], str):\n",
    "            if kwargs[filed].strip():\n",
    "                return {\"result\": True, \"message\": \"success\"}\n",
    "            else:\n",
    "                return {\"result\": False, \"message\": \"空字符串\"}\n",
    "        else:\n",
    "            return {\"result\": True, \"message\": \"success\"}\n",
    "    else:\n",
    "        return {\"result\": False, \"message\": \"缺少参数\"}"
   ]
  },
  {
   "cell_type": "code",
   "execution_count": 88,
   "metadata": {},
   "outputs": [
    {
     "name": "stdout",
     "output_type": "stream",
     "text": [
      "1\n"
     ]
    }
   ],
   "source": [
    "print(judge_paramter(\"b\", my_test))"
   ]
  },
  {
   "cell_type": "markdown",
   "metadata": {},
   "source": [
    "## Re正则"
   ]
  },
  {
   "cell_type": "code",
   "execution_count": 1,
   "metadata": {},
   "outputs": [],
   "source": [
    "import re"
   ]
  },
  {
   "cell_type": "code",
   "execution_count": null,
   "metadata": {},
   "outputs": [],
   "source": [
    "text = \"\"\"\n",
    "\n",
    "\"\"\""
   ]
  },
  {
   "cell_type": "code",
   "execution_count": 9,
   "metadata": {},
   "outputs": [
    {
     "name": "stdout",
     "output_type": "stream",
     "text": [
      "900000\n"
     ]
    }
   ],
   "source": [
    "import hashlib\n",
    "import uuid\n",
    "\n",
    "a = set()\n",
    "\n",
    "def get_uuid():\n",
    "    uid = hashlib.md5(str(uuid.uuid1()).encode(\"utf-8\")).hexdigest()\n",
    "    a.add(uid)\n",
    "    \n",
    "for i in range(900000):\n",
    "    get_uuid()\n",
    "    \n",
    "print(len(a))"
   ]
  },
  {
   "cell_type": "code",
   "execution_count": 2,
   "metadata": {},
   "outputs": [],
   "source": [
    "import time"
   ]
  },
  {
   "cell_type": "code",
   "execution_count": 3,
   "metadata": {},
   "outputs": [
    {
     "data": {
      "text/plain": [
       "1578290197.624866"
      ]
     },
     "execution_count": 3,
     "metadata": {},
     "output_type": "execute_result"
    }
   ],
   "source": [
    "a = int(time.time())"
   ]
  },
  {
   "cell_type": "code",
   "execution_count": 6,
   "metadata": {},
   "outputs": [
    {
     "data": {
      "text/plain": [
       "1578290197"
      ]
     },
     "execution_count": 6,
     "metadata": {},
     "output_type": "execute_result"
    }
   ],
   "source": [
    "int(1578290197.624866)"
   ]
  },
  {
   "cell_type": "code",
   "execution_count": 21,
   "metadata": {},
   "outputs": [],
   "source": [
    "def aa(a):\n",
    "    try:\n",
    "        a = eval(a)\n",
    "        return 22\n",
    "    except:\n",
    "        a = eval(a)\n",
    "        return 33"
   ]
  },
  {
   "cell_type": "code",
   "execution_count": 22,
   "metadata": {},
   "outputs": [
    {
     "ename": "TypeError",
     "evalue": "eval() arg 1 must be a string, bytes or code object",
     "output_type": "error",
     "traceback": [
      "\u001b[0;31m---------------------------------------------------------------------------\u001b[0m",
      "\u001b[0;31mTypeError\u001b[0m                                 Traceback (most recent call last)",
      "\u001b[0;32m<ipython-input-21-e02bca55bd82>\u001b[0m in \u001b[0;36maa\u001b[0;34m(a)\u001b[0m\n\u001b[1;32m      2\u001b[0m     \u001b[0;32mtry\u001b[0m\u001b[0;34m:\u001b[0m\u001b[0;34m\u001b[0m\u001b[0;34m\u001b[0m\u001b[0m\n\u001b[0;32m----> 3\u001b[0;31m         \u001b[0ma\u001b[0m \u001b[0;34m=\u001b[0m \u001b[0meval\u001b[0m\u001b[0;34m(\u001b[0m\u001b[0ma\u001b[0m\u001b[0;34m)\u001b[0m\u001b[0;34m\u001b[0m\u001b[0;34m\u001b[0m\u001b[0m\n\u001b[0m\u001b[1;32m      4\u001b[0m         \u001b[0;32mreturn\u001b[0m \u001b[0;36m22\u001b[0m\u001b[0;34m\u001b[0m\u001b[0;34m\u001b[0m\u001b[0m\n",
      "\u001b[0;31mTypeError\u001b[0m: eval() arg 1 must be a string, bytes or code object",
      "\nDuring handling of the above exception, another exception occurred:\n",
      "\u001b[0;31mTypeError\u001b[0m                                 Traceback (most recent call last)",
      "\u001b[0;32m<ipython-input-22-9be968d006aa>\u001b[0m in \u001b[0;36m<module>\u001b[0;34m\u001b[0m\n\u001b[0;32m----> 1\u001b[0;31m \u001b[0maa\u001b[0m\u001b[0;34m(\u001b[0m\u001b[0mtime\u001b[0m\u001b[0;34m.\u001b[0m\u001b[0mtime\u001b[0m\u001b[0;34m(\u001b[0m\u001b[0;34m)\u001b[0m\u001b[0;34m)\u001b[0m\u001b[0;34m\u001b[0m\u001b[0;34m\u001b[0m\u001b[0m\n\u001b[0m",
      "\u001b[0;32m<ipython-input-21-e02bca55bd82>\u001b[0m in \u001b[0;36maa\u001b[0;34m(a)\u001b[0m\n\u001b[1;32m      4\u001b[0m         \u001b[0;32mreturn\u001b[0m \u001b[0;36m22\u001b[0m\u001b[0;34m\u001b[0m\u001b[0;34m\u001b[0m\u001b[0m\n\u001b[1;32m      5\u001b[0m     \u001b[0;32mexcept\u001b[0m\u001b[0;34m:\u001b[0m\u001b[0;34m\u001b[0m\u001b[0;34m\u001b[0m\u001b[0m\n\u001b[0;32m----> 6\u001b[0;31m         \u001b[0ma\u001b[0m \u001b[0;34m=\u001b[0m \u001b[0meval\u001b[0m\u001b[0;34m(\u001b[0m\u001b[0ma\u001b[0m\u001b[0;34m)\u001b[0m\u001b[0;34m\u001b[0m\u001b[0;34m\u001b[0m\u001b[0m\n\u001b[0m\u001b[1;32m      7\u001b[0m         \u001b[0;32mreturn\u001b[0m \u001b[0;36m33\u001b[0m\u001b[0;34m\u001b[0m\u001b[0;34m\u001b[0m\u001b[0m\n",
      "\u001b[0;31mTypeError\u001b[0m: eval() arg 1 must be a string, bytes or code object"
     ]
    }
   ],
   "source": [
    "aa(time.time())"
   ]
  },
  {
   "cell_type": "code",
   "execution_count": 23,
   "metadata": {},
   "outputs": [
    {
     "name": "stdout",
     "output_type": "stream",
     "text": [
      "[]\n"
     ]
    }
   ],
   "source": [
    "a = []\n",
    "print(a[0:100])"
   ]
  },
  {
   "cell_type": "code",
   "execution_count": 39,
   "metadata": {},
   "outputs": [
    {
     "name": "stdout",
     "output_type": "stream",
     "text": [
      "{'_identity': (60,), '_config': {'authkey': b\"i!\\x0cQ\\xbe\\xd2\\xda\\xa1j|Tt\\xaa\\xd0\\xdb\\xcf\\xce\\xdc\\x9a\\x8a`1\\x95\\xa5'pb\\xaf2\\xe3\\x0cj\", 'semprefix': '/mp'}, '_parent_pid': 24042, '_popen': <multiprocessing.popen_fork.Popen object at 0x7ff2ac2f87b8>, '_name': 'Process-60', '_sentinel': 69}\n",
      "{'_identity': (61,), '_config': {'authkey': b\"i!\\x0cQ\\xbe\\xd2\\xda\\xa1j|Tt\\xaa\\xd0\\xdb\\xcf\\xce\\xdc\\x9a\\x8a`1\\x95\\xa5'pb\\xaf2\\xe3\\x0cj\", 'semprefix': '/mp'}, '_parent_pid': 24042, '_popen': <multiprocessing.popen_fork.Popen object at 0x7ff2ac3060b8>, '_name': 'Process-61', '_sentinel': 76}\n",
      "{'_identity': (62,), '_config': {'authkey': b\"i!\\x0cQ\\xbe\\xd2\\xda\\xa1j|Tt\\xaa\\xd0\\xdb\\xcf\\xce\\xdc\\x9a\\x8a`1\\x95\\xa5'pb\\xaf2\\xe3\\x0cj\", 'semprefix': '/mp'}, '_parent_pid': 24042, '_popen': <multiprocessing.popen_fork.Popen object at 0x7ff2ac2b1588>, '_name': 'Process-62', '_sentinel': 77}\n",
      "{'_identity': (63,), '_config': {'authkey': b\"i!\\x0cQ\\xbe\\xd2\\xda\\xa1j|Tt\\xaa\\xd0\\xdb\\xcf\\xce\\xdc\\x9a\\x8a`1\\x95\\xa5'pb\\xaf2\\xe3\\x0cj\", 'semprefix': '/mp'}, '_parent_pid': 24042, '_popen': <multiprocessing.popen_fork.Popen object at 0x7ff2ac2b1550>, '_name': 'Process-63', '_sentinel': 78}\n",
      "{'_identity': (64,), '_config': {'authkey': b\"i!\\x0cQ\\xbe\\xd2\\xda\\xa1j|Tt\\xaa\\xd0\\xdb\\xcf\\xce\\xdc\\x9a\\x8a`1\\x95\\xa5'pb\\xaf2\\xe3\\x0cj\", 'semprefix': '/mp'}, '_parent_pid': 24042, '_popen': <multiprocessing.popen_fork.Popen object at 0x7ff2ac2b1a90>, '_name': 'Process-64', '_sentinel': 80}\n",
      "{'_identity': (65,), '_config': {'authkey': b\"i!\\x0cQ\\xbe\\xd2\\xda\\xa1j|Tt\\xaa\\xd0\\xdb\\xcf\\xce\\xdc\\x9a\\x8a`1\\x95\\xa5'pb\\xaf2\\xe3\\x0cj\", 'semprefix': '/mp'}, '_parent_pid': 24042, '_popen': <multiprocessing.popen_fork.Popen object at 0x7ff2ac2b1ac8>, '_name': 'Process-65', '_sentinel': 82}\n",
      "{'_identity': (66,), '_config': {'authkey': b\"i!\\x0cQ\\xbe\\xd2\\xda\\xa1j|Tt\\xaa\\xd0\\xdb\\xcf\\xce\\xdc\\x9a\\x8a`1\\x95\\xa5'pb\\xaf2\\xe3\\x0cj\", 'semprefix': '/mp'}, '_parent_pid': 24042, '_popen': <multiprocessing.popen_fork.Popen object at 0x7ff2ac2b1c88>, '_name': 'Process-66', '_sentinel': 81}\n",
      "{'_identity': (67,), '_config': {'authkey': b\"i!\\x0cQ\\xbe\\xd2\\xda\\xa1j|Tt\\xaa\\xd0\\xdb\\xcf\\xce\\xdc\\x9a\\x8a`1\\x95\\xa5'pb\\xaf2\\xe3\\x0cj\", 'semprefix': '/mp'}, '_parent_pid': 24042, '_popen': <multiprocessing.popen_fork.Popen object at 0x7ff2ac2b1c50>, '_name': 'Process-67', '_sentinel': 83}\n",
      "{'_identity': (68,), '_config': {'authkey': b\"i!\\x0cQ\\xbe\\xd2\\xda\\xa1j|Tt\\xaa\\xd0\\xdb\\xcf\\xce\\xdc\\x9a\\x8a`1\\x95\\xa5'pb\\xaf2\\xe3\\x0cj\", 'semprefix': '/mp'}, '_parent_pid': 24042, '_popen': <multiprocessing.popen_fork.Popen object at 0x7ff2ac2b1ba8>, '_name': 'Process-68', '_sentinel': 71}\n",
      "{'_identity': (69,), '_config': {'authkey': b\"i!\\x0cQ\\xbe\\xd2\\xda\\xa1j|Tt\\xaa\\xd0\\xdb\\xcf\\xce\\xdc\\x9a\\x8a`1\\x95\\xa5'pb\\xaf2\\xe3\\x0cj\", 'semprefix': '/mp'}, '_parent_pid': 24042, '_popen': <multiprocessing.popen_fork.Popen object at 0x7ff2ac2a6ac8>, '_name': 'Process-69', '_sentinel': 84}\n",
      "------主进程------\n"
     ]
    }
   ],
   "source": [
    "import os\n",
    "from multiprocessing import Process\n",
    "\n",
    "def func():\n",
    "    return 33\n",
    "\n",
    "if __name__ == '__main__':\n",
    "    p_l = []\n",
    "    for i in range(10):\n",
    "        p = Process(target=func)\n",
    "        p.start()\n",
    "        p_l.append(p)\n",
    "\n",
    "    for p in p_l:\n",
    "        p.join()\n",
    "    for i in p_l:\n",
    "        print(i.__dict__)\n",
    "    print(\"------主进程------\")"
   ]
  },
  {
   "cell_type": "code",
   "execution_count": 1,
   "metadata": {},
   "outputs": [],
   "source": [
    "test_str = \"<ServerProxy for 192.168.0.247:8416/RPC2>\""
   ]
  },
  {
   "cell_type": "code",
   "execution_count": 4,
   "metadata": {},
   "outputs": [
    {
     "data": {
      "text/plain": [
       "'192.168.0.247'"
      ]
     },
     "execution_count": 4,
     "metadata": {},
     "output_type": "execute_result"
    }
   ],
   "source": [
    "test_str.split(\":\")[0].split(\" \")[-1]"
   ]
  },
  {
   "cell_type": "code",
   "execution_count": null,
   "metadata": {},
   "outputs": [],
   "source": []
  }
 ],
 "metadata": {
  "kernelspec": {
   "display_name": "Python 3",
   "language": "python",
   "name": "python3"
  },
  "language_info": {
   "codemirror_mode": {
    "name": "ipython",
    "version": 3
   },
   "file_extension": ".py",
   "mimetype": "text/x-python",
   "name": "python",
   "nbconvert_exporter": "python",
   "pygments_lexer": "ipython3",
   "version": "3.6.8"
  }
 },
 "nbformat": 4,
 "nbformat_minor": 2
}
