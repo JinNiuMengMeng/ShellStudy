{
 "cells": [
  {
   "cell_type": "markdown",
   "metadata": {},
   "source": [
    "# 爬取巨牛汇所有人才信息"
   ]
  },
  {
   "cell_type": "code",
   "execution_count": 1,
   "metadata": {},
   "outputs": [],
   "source": [
    "from fake_useragent import UserAgent\n",
    "from bs4 import BeautifulSoup\n",
    "import requests\n",
    "import random\n",
    "import time\n",
    "import threading"
   ]
  },
  {
   "cell_type": "code",
   "execution_count": 2,
   "metadata": {},
   "outputs": [],
   "source": [
    "class MyThread(threading.Thread):\n",
    "\n",
    "    def __init__(self, func, args=()):\n",
    "        super(MyThread, self).__init__()\n",
    "        self.func = func\n",
    "        self.args = args\n",
    "\n",
    "    def run(self):\n",
    "        self.result = self.func(*self.args)\n",
    "\n",
    "    def get_result(self):\n",
    "        try:\n",
    "            return self.result\n",
    "        except Exception as e:\n",
    "            return None"
   ]
  },
  {
   "cell_type": "code",
   "execution_count": 3,
   "metadata": {},
   "outputs": [],
   "source": [
    "class SpiderCow(object):\n",
    "\n",
    "    def __init__(self, start_url, main_url, pages):\n",
    "        self.main_url = main_url\n",
    "        self.start_url = start_url\n",
    "        self.pages = pages\n",
    "        self.url_tail = []\n",
    "\n",
    "    def _make_url(self):\n",
    "        for i in range(1, self.pages + 1):\n",
    "            self.url_tail.append(\"{}?randomKey={}\".format(i, random.randint(1000, 9999)))\n",
    "\n",
    "    def _request_url(self, url):\n",
    "        headers = {'User-Agent': UserAgent(path=\"/home/ubuntu/svn_project/mytest/ju_niu_hui/user_agent.json\").random}\n",
    "        res = None\n",
    "        try:\n",
    "            res = requests.get(url=url, headers=headers)\n",
    "        except Exception as e:\n",
    "            print(f\"请求异常, 异常url: {url}, 异常信息: {e}\")\n",
    "        return res\n",
    "\n",
    "    def run(self):\n",
    "        thread_list = []\n",
    "        if not self.url_tail:\n",
    "            self._make_url()\n",
    "            \n",
    "        for i in self.url_tail:\n",
    "            t = MyThread(self._request_url, args=(self.start_url + i, ))\n",
    "            thread_list.append(t)\n",
    "            \n",
    "        for th in thread_list:\n",
    "            th.start()\n",
    "\n",
    "        for th in thread_list:\n",
    "            th.join()\n",
    "            res = th.get_result()\n",
    "            self._analysis_html(res)\n",
    "\n",
    "\n",
    "    def _analysis_html(self, response):\n",
    "        res_html = response.text\n",
    "        res_soup = BeautifulSoup(res_html, \"lxml\")\n",
    "        user_list = res_soup.find_all(name='div', attrs={\"class\": \"list\"})\n",
    "        for one_usr in user_list[0]:\n",
    "            try:\n",
    "                user_url = self.main_url + one_usr.a[\"href\"]    # 用户链接\n",
    "                user_name = one_usr.h3.next_element             # 用户名称\n",
    "                user_position = one_usr.h3.contents[2].text     # 用户岗位\n",
    "                user_team = one_usr.h3.contents[3].text         # 个人或团队\n",
    "                user_address = one_usr.h3.contents[4].text      # 用户地址\n",
    "                user_seniority = one_usr.h3.contents[5].text    # 用户工龄\n",
    "                user_skills = one_usr.p.text                    # 用户技能\n",
    "                try:\n",
    "                    user_order = one_usr.contents[1].span.text      # 用户订单\n",
    "                except:\n",
    "                    user_order = \"完成 0 单\"\n",
    "                try:\n",
    "                    user_charges = one_usr.contents[1].em.text      # 用户收费\n",
    "                except:\n",
    "                    user_charges = \"0元/日\"\n",
    "                user_product = one_usr.p.next_sibling.text      # 用户作品\n",
    "                print(f\"用户名称: {user_name}\\t用户岗位: {user_position}\\t用户地址: {user_address}\", end=\"\")\n",
    "                print(f\"\\t个人或团队: {user_team}\\t用户工龄: {user_seniority}\\t用户订单: {user_order}\", end=\"\")\n",
    "                print(f\"\\t收费标准: {user_charges}\")\n",
    "                print(f\"用户技能: {user_skills}\")\n",
    "                print(f\"用户作品: {user_product}\")\n",
    "                print(f\"用户链接: {user_url}\")\n",
    "                print(\"-\" * 100)\n",
    "            except Exception as e:\n",
    "                pass\n",
    "\n",
    "    def get_totle_pages(self):  # 获取总的页数\n",
    "        res = self._request_url(self.start_url)\n",
    "        res_html = res.text\n",
    "        res_soup = BeautifulSoup(res_html, \"lxml\")\n",
    "        total_pages = res_soup.find_all(name='span', attrs={\"class\": \"num\"})[0].contents[-1].text\n",
    "        print(total_pages)\n",
    "\n",
    "    def _get_user_introduce(self, user_url):\n",
    "        res = self._request_url(url=user_url)\n",
    "        res_html = res.text\n",
    "        res_soup = BeautifulSoup(res_html, \"lxml\")\n",
    "        usr_list = res_soup.find_all(name='p', attrs={\"class\": \"introduce\"})\n",
    "        return usr_list[0].text"
   ]
  },
  {
   "cell_type": "code",
   "execution_count": 7,
   "metadata": {},
   "outputs": [],
   "source": [
    "main_url = \"https://www.juniuhui.com\"\n",
    "start_url = \"https://www.juniuhui.com/talentPool/talentList/index/\"\n",
    "pages = 102"
   ]
  },
  {
   "cell_type": "code",
   "execution_count": 5,
   "metadata": {},
   "outputs": [],
   "source": [
    "spider_cow = SpiderCow(start_url=start_url, main_url=main_url, pages=pages)"
   ]
  },
  {
   "cell_type": "markdown",
   "metadata": {},
   "source": [
    "### 获取总页数"
   ]
  },
  {
   "cell_type": "code",
   "execution_count": 6,
   "metadata": {},
   "outputs": [
    {
     "name": "stdout",
     "output_type": "stream",
     "text": [
      "102\n"
     ]
    }
   ],
   "source": [
    "spider_cow.get_totle_pages()"
   ]
  },
  {
   "cell_type": "code",
   "execution_count": 8,
   "metadata": {},
   "outputs": [
    {
     "name": "stdout",
     "output_type": "stream",
     "text": [
      "用户名称: passing\t用户岗位: APP开发工程师\t用户地址: 郑州市\t个人或团队: 团队\t用户工龄: 4年\t用户订单: 完成 0 单\t收费标准: 0元/日\n",
      "用户技能: 技能：APP设计，APP产品，后台产品，产品咨询，iOS，Java，Android\n",
      "用户作品: 作品：大学时代社区，畅聊\n",
      "用户链接: https://www.juniuhui.com/personalCenter/newResume/20259.html\n",
      "----------------------------------------------------------------------------------------------------\n",
      "用户名称: 软件开发后生仔丶\t用户岗位: 技术总监\t用户地址: 临沂市\t个人或团队: 个人\t用户工龄: 8年\t用户订单: 完成 0 单\t收费标准: 500元/日\n",
      "用户技能: 技能：HTML5，PHP，小程序，iOS，Android，Linux，数据库，C++，网站设计，原型设计，网站产品，APP产品，后台产品，需求撰写，产品咨询\n",
      "用户作品: 作品：小马直播\n",
      "用户链接: https://www.juniuhui.com/personalCenter/newResume/21103.html\n",
      "----------------------------------------------------------------------------------------------------\n",
      "用户名称: 杭州天泽\t用户岗位: 技术负责人\t用户地址: 杭州市\t个人或团队: 团队\t用户工龄: 10年及以上\t用户订单: 完成 0 单\t收费标准: 0元/日\n",
      "用户技能: 技能：APP产品，数据库，Java，小程序，C++，Python\n",
      "用户作品: 作品：海通证券-互联网金融综合理财服务平台，海通证券网上营业厅，北美百应\n",
      "用户链接: https://www.juniuhui.com/personalCenter/newResume/17538.html\n",
      "----------------------------------------------------------------------------------------------------\n",
      "用户名称: Strange\t用户岗位: 项目部主管\t用户地址: 武汉市\t个人或团队: 团队\t用户工龄: 2年\t用户订单: 完成 0 单\t收费标准: 400元/日\n",
      "用户技能: 技能：HTML5，JavaScript，CSS，小程序，C++，网站设计，APP设计，APP推广，用户运营\n",
      "用户作品: 作品：马来西亚软件测评及开发用户体验\n",
      "用户链接: https://www.juniuhui.com/personalCenter/newResume/20077.html\n",
      "----------------------------------------------------------------------------------------------------\n",
      "用户名称: bad   boy\t用户岗位: 商务主管\t用户地址: 长沙市\t个人或团队: 团队\t用户工龄: 4年\t用户订单: 完成 0 单\t收费标准: 888元/日\n",
      "用户技能: 技能：Java，小程序，PHP\n",
      "用户作品: 作品：红橙影视，云普车间商城小程序\n",
      "用户链接: https://www.juniuhui.com/personalCenter/newResume/17645.html\n",
      "----------------------------------------------------------------------------------------------------\n",
      "用户名称: 厦门风寰科技\t用户岗位: 商务总监\t用户地址: 厦门市\t个人或团队: 团队\t用户工龄: 4年\t用户订单: 完成 0 单\t收费标准: 0元/日\n",
      "用户技能: 技能：HTML5，Java，Android，小程序，C++，PHP，Photoshop，APP设计，网站设计，Flash，logo设计，JavaScript，CSS，数据库，原型设计，网站产品，APP产品，后台产品，需求撰写\n",
      "用户作品: 作品：网站二开\n",
      "用户链接: https://www.juniuhui.com/personalCenter/newResume/19597.html\n",
      "----------------------------------------------------------------------------------------------------\n",
      "用户名称: IT技术服务商~啊远\t用户岗位: 多端软件开发工程师\t用户地址: 汕头市\t个人或团队: 团队\t用户工龄: 7年\t用户订单: 完成 0 单\t收费标准: 200元/日\n",
      "用户技能: 技能：HTML5，数据库，PHP，Python，网站设计，原型设计，后台产品，APP产品，网站产品\n",
      "用户作品: 作品：景区智能系统\n",
      "用户链接: https://www.juniuhui.com/personalCenter/newResume/20321.html\n",
      "----------------------------------------------------------------------------------------------------\n",
      "用户名称: 小孙\t用户岗位: 高级java开发\t用户地址: 北京市\t个人或团队: 个人\t用户工龄: 5年\t用户订单: 完成 0 单\t收费标准: 1000元/日\n",
      "用户技能: 技能：HTML5，JavaScript，Java，CSS，小程序，Linux，数据库，Python，Photoshop，原型设计，后台产品，需求撰写\n",
      "用户作品: 作品：神工007用户版，神工007客服系统，京东内部服饰管理系统\n",
      "用户链接: https://www.juniuhui.com/personalCenter/newResume/19234.html\n",
      "----------------------------------------------------------------------------------------------------\n",
      "用户名称: 胡二毛\t用户岗位: Java开发\t用户地址: 长沙市\t个人或团队: 个人\t用户工龄: 2年\t用户订单: 完成 0 单\t收费标准: 0元/日\n",
      "用户技能: 技能：小程序，Java，JavaScript，数据库，HTML5，CSS\n",
      "用户作品: 作品：足球传奇\n",
      "用户链接: https://www.juniuhui.com/personalCenter/newResume/20604.html\n",
      "----------------------------------------------------------------------------------------------------\n",
      "用户名称: abingtech\t用户岗位: 高级java开发\t用户地址: 深圳市\t个人或团队: 团队\t用户工龄: 9年\t用户订单: 完成 0 单\t收费标准: 800元/日\n",
      "用户技能: 技能：HTML5，JavaScript，Java，PHP，小程序，CSS，Linux，数据库，网站设计，网站产品，后台产品\n",
      "用户作品: 作品：炫宝物联微信公众号\n",
      "用户链接: https://www.juniuhui.com/personalCenter/newResume/20556.html\n",
      "----------------------------------------------------------------------------------------------------\n"
     ]
    }
   ],
   "source": [
    "spider_cow.run()"
   ]
  },
  {
   "cell_type": "code",
   "execution_count": null,
   "metadata": {},
   "outputs": [],
   "source": []
  }
 ],
 "metadata": {
  "kernelspec": {
   "display_name": "Python 3",
   "language": "python",
   "name": "python3"
  },
  "language_info": {
   "codemirror_mode": {
    "name": "ipython",
    "version": 3
   },
   "file_extension": ".py",
   "mimetype": "text/x-python",
   "name": "python",
   "nbconvert_exporter": "python",
   "pygments_lexer": "ipython3",
   "version": "3.6.8"
  }
 },
 "nbformat": 4,
 "nbformat_minor": 2
}
