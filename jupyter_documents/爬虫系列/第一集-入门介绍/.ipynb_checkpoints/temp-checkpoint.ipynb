{
 "cells": [
  {
   "cell_type": "code",
   "execution_count": 9,
   "metadata": {},
   "outputs": [],
   "source": [
    "from bs4 import BeautifulSoup\n",
    "from fake_useragent import UserAgent\n",
    "import requests"
   ]
  },
  {
   "cell_type": "code",
   "execution_count": 10,
   "metadata": {},
   "outputs": [],
   "source": [
    "res = requests.get(\"https://www.juniuhui.com/talentPool/talentList/index/1?randomKey=815\")"
   ]
  },
  {
   "cell_type": "code",
   "execution_count": 11,
   "metadata": {},
   "outputs": [
    {
     "data": {
      "text/plain": [
       "200"
      ]
     },
     "execution_count": 11,
     "metadata": {},
     "output_type": "execute_result"
    }
   ],
   "source": [
    "res.status_code"
   ]
  },
  {
   "cell_type": "code",
   "execution_count": 12,
   "metadata": {},
   "outputs": [],
   "source": [
    "res_html = res.text"
   ]
  },
  {
   "cell_type": "code",
   "execution_count": 13,
   "metadata": {},
   "outputs": [],
   "source": [
    "res_soup = BeautifulSoup(res_html, \"lxml\")"
   ]
  },
  {
   "cell_type": "code",
   "execution_count": 14,
   "metadata": {},
   "outputs": [
    {
     "name": "stdout",
     "output_type": "stream",
     "text": [
      "<class 'bs4.element.Tag'>\n",
      "13\n"
     ]
    }
   ],
   "source": [
    "usr_list = res_soup.find_all(name='div',attrs={\"class\":\"list\"})"
   ]
  },
  {
   "cell_type": "code",
   "execution_count": null,
   "metadata": {},
   "outputs": [],
   "source": [
    "total_pages = res_soup.find_all(name='span', attrs={\"class\":\"num\"})[0].contents[-1].text\n",
    "print(total_pages)"
   ]
  },
  {
   "cell_type": "code",
   "execution_count": 8,
   "metadata": {},
   "outputs": [
    {
     "name": "stdout",
     "output_type": "stream",
     "text": [
      "用户名称: 南京领拓云计算\t用户岗位: 市场营销经理\t用户地址: 南京市\t个人或团队: 团队\t用户工龄: 1年及以下\t用户订单: 完成 0 单\n",
      "用户技能: 技能：小程序，iOS，Android，Java，PHP，APP产品，后台产品，需求撰写\n",
      "用户作品: 作品：志愿填报小程序\n",
      "用户链接: https://www.juniuhui.com/personalCenter/newResume/20588.html\n",
      "----------------------------------------------------------------------------------------------------\n",
      "用户名称: ꧁༺❀ൢso༒lo❀༻꧂\t用户岗位: 高级前端工程师\t用户地址: 北京市\t个人或团队: 团队\t用户工龄: 10年及以上\t用户订单: 完成 0 单\n",
      "用户技能: 技能：HTML5，JavaScript，Java，Android，PHP，小程序，Photoshop，网站设计，APP设计，SEO，文案写作，用户运营，后台产品，网站产品\n",
      "用户作品: 作品：网站开发\n",
      "用户链接: https://www.juniuhui.com/personalCenter/newResume/20585.html\n",
      "----------------------------------------------------------------------------------------------------\n",
      "用户名称: jtshushu\t用户岗位: php\t用户地址: 深圳市\t个人或团队: 个人\t用户工龄: 9年\t用户订单: 完成 0 单\n",
      "用户技能: 技能：HTML5，PHP，小程序，Python，JavaScript，Photoshop，illustrator，网站设计，APP设计，logo设计，Flash，VI设计，网站产品，APP产品，原型设计，后台产品\n",
      "用户作品: 作品：shumatt.com\n",
      "用户链接: https://www.juniuhui.com/personalCenter/newResume/20584.html\n",
      "----------------------------------------------------------------------------------------------------\n",
      "用户名称: 菜菜\t用户岗位: 开发工程师\t用户地址: 厦门市\t个人或团队: 团队\t用户工龄: 2年\t用户订单: 完成 1 单\n",
      "用户技能: 技能：JavaScript，Java，logo设计，PHP，iOS，illustrator\n",
      "用户作品: 作品：头条\n",
      "用户链接: https://www.juniuhui.com/personalCenter/newResume/18250.html\n",
      "----------------------------------------------------------------------------------------------------\n",
      "用户名称: 丶G\t用户岗位: PHP开发工程师\t用户地址: 扬州市\t个人或团队: 个人\t用户工龄: 3年\t用户订单: 完成 0 单\n",
      "用户技能: 技能：PHP，JavaScript，HTML5\n",
      "用户作品: 作品：钢琴音乐门户网站\n",
      "用户链接: https://www.juniuhui.com/personalCenter/newResume/18068.html\n",
      "----------------------------------------------------------------------------------------------------\n",
      "用户名称: 资深前端开发\t用户岗位: 高级前端开发\t用户地址: 北京市\t个人或团队: 个人\t用户工龄: 3年\t用户订单: 完成 0 单\n",
      "用户技能: 技能：HTML5，JavaScript，小程序，Photoshop\n",
      "用户作品: 作品：一呼医生-小程序\n",
      "用户链接: https://www.juniuhui.com/personalCenter/newResume/19996.html\n",
      "----------------------------------------------------------------------------------------------------\n",
      "用户名称: 果然\t用户岗位: 中级开发工程师\t用户地址: 上海市\t个人或团队: 团队\t用户工龄: 4年\t用户订单: 完成 0 单\n",
      "用户技能: 技能：小程序，HTML5，JavaScript，Java，Android，iOS，PHP，CSS，Linux，数据库，Photoshop，网站设计，APP设计，logo设计，原型设计，网站产品，APP产品，后台产品，需求撰写，产品咨询\n",
      "用户作品: 作品：金小二，微菜\n",
      "用户链接: https://www.juniuhui.com/personalCenter/newResume/20444.html\n",
      "----------------------------------------------------------------------------------------------------\n"
     ]
    }
   ],
   "source": [
    "host = \"https://www.juniuhui.com\"\n",
    "for one_usr in usr_list[0]:\n",
    "    try:\n",
    "        usr_url = host + one_usr.a[\"href\"]             # 用户链接\n",
    "        usr_name = one_usr.h3.next_element             # 用户名称\n",
    "        usr_position = one_usr.h3.contents[2].text     # 用户岗位\n",
    "        usr_team = one_usr.h3.contents[3].text         # 个人或团队\n",
    "        usr_address = one_usr.h3.contents[4].text      # 用户地址\n",
    "        usr_seniority = one_usr.h3.contents[5].text    # 用户工龄\n",
    "        usr_skills = one_usr.p.text                    # 用户技能\n",
    "        usr_order = one_usr.contents[1].span.text      # 用户订单\n",
    "        usr_charges = one_usr.contents[1].em.text      # 用户订单\n",
    "        usr_product = one_usr.p.next_sibling.text      # 用户作品\n",
    "        print(f\"用户名称: {usr_name}\\t用户岗位: {usr_position}\\t用户地址: {usr_address}\\t个人或团队: {usr_team}\", end=\"\")\n",
    "        print(f\"\\t用户工龄: {usr_seniority}\\t用户订单: {usr_order}\")\n",
    "        print(f\"用户技能: {usr_skills}\")\n",
    "        print(f\"用户作品: {usr_product}\")\n",
    "        print(f\"用户链接: {usr_url}\")\n",
    "        print(\"-\"*100)\n",
    "    except Exception as e:\n",
    "        pass"
   ]
  },
  {
   "cell_type": "code",
   "execution_count": 15,
   "metadata": {},
   "outputs": [
    {
     "name": "stdout",
     "output_type": "stream",
     "text": [
      "101\n"
     ]
    }
   ],
   "source": []
  },
  {
   "cell_type": "code",
   "execution_count": 16,
   "metadata": {},
   "outputs": [
    {
     "data": {
      "text/plain": [
       "5193"
      ]
     },
     "execution_count": 16,
     "metadata": {},
     "output_type": "execute_result"
    }
   ],
   "source": [
    "import random\n",
    "random.randint(1000, 9999)"
   ]
  },
  {
   "cell_type": "code",
   "execution_count": null,
   "metadata": {},
   "outputs": [],
   "source": []
  }
 ],
 "metadata": {
  "kernelspec": {
   "display_name": "Python 3",
   "language": "python",
   "name": "python3"
  },
  "language_info": {
   "codemirror_mode": {
    "name": "ipython",
    "version": 3
   },
   "file_extension": ".py",
   "mimetype": "text/x-python",
   "name": "python",
   "nbconvert_exporter": "python",
   "pygments_lexer": "ipython3",
   "version": "3.6.8"
  }
 },
 "nbformat": 4,
 "nbformat_minor": 2
}
