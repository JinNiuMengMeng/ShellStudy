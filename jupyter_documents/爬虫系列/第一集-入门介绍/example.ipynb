{
 "cells": [
  {
   "cell_type": "code",
   "execution_count": 1,
   "metadata": {},
   "outputs": [],
   "source": [
    "html_doc = \"\"\"\n",
    "<html>\n",
    "<head><title>The Dormouse's story</title></head>\n",
    "\n",
    "<body>\n",
    "<p class=\"title\"><b>The Dormouse's story</b></p>\n",
    "<p class=\"story\">Once upon a time there were three little sisters; and their names were\n",
    "\n",
    "<a href=\"http://example.com/elsie\" class=\"sister\" id=\"link1\">Elsie</a>,\n",
    "<a href=\"http://example.com/lacie\" class=\"sister\" id=\"link2\">Lacie</a> and\n",
    "<a href=\"http://example.com/tillie\" class=\"sister\" id=\"link3\">Tillie</a>; and they lived at the bottom of a well.</p>\n",
    "\n",
    "<p class=\"story\">...</p>\n",
    "</body>\n",
    "</html>\n",
    "\"\"\""
   ]
  },
  {
   "cell_type": "code",
   "execution_count": 2,
   "metadata": {},
   "outputs": [],
   "source": [
    "from bs4 import BeautifulSoup"
   ]
  },
  {
   "cell_type": "code",
   "execution_count": 4,
   "metadata": {},
   "outputs": [],
   "source": [
    "soup = BeautifulSoup(html_doc, \"lxml\")"
   ]
  },
  {
   "cell_type": "code",
   "execution_count": 8,
   "metadata": {},
   "outputs": [
    {
     "data": {
      "text/plain": [
       "'Elsie'"
      ]
     },
     "execution_count": 8,
     "metadata": {},
     "output_type": "execute_result"
    }
   ],
   "source": [
    "soup.a.text"
   ]
  },
  {
   "cell_type": "code",
   "execution_count": 9,
   "metadata": {},
   "outputs": [
    {
     "data": {
      "text/plain": [
       "[<a class=\"sister\" href=\"http://example.com/elsie\" id=\"link1\">Elsie</a>,\n",
       " <a class=\"sister\" href=\"http://example.com/lacie\" id=\"link2\">Lacie</a>,\n",
       " <a class=\"sister\" href=\"http://example.com/tillie\" id=\"link3\">Tillie</a>]"
      ]
     },
     "execution_count": 9,
     "metadata": {},
     "output_type": "execute_result"
    }
   ],
   "source": [
    "soup.find_all(\"a\")"
   ]
  },
  {
   "cell_type": "code",
   "execution_count": 10,
   "metadata": {},
   "outputs": [],
   "source": [
    "start_url = \"https://www.juniuhui.com/talentPool/talentList/index\""
   ]
  },
  {
   "cell_type": "code",
   "execution_count": 11,
   "metadata": {},
   "outputs": [],
   "source": [
    "import requests"
   ]
  },
  {
   "cell_type": "code",
   "execution_count": 12,
   "metadata": {},
   "outputs": [],
   "source": [
    "res = requests.get(url = start_url)"
   ]
  },
  {
   "cell_type": "code",
   "execution_count": 13,
   "metadata": {},
   "outputs": [
    {
     "data": {
      "text/plain": [
       "200"
      ]
     },
     "execution_count": 13,
     "metadata": {},
     "output_type": "execute_result"
    }
   ],
   "source": [
    "res.status_code"
   ]
  },
  {
   "cell_type": "code",
   "execution_count": 15,
   "metadata": {},
   "outputs": [],
   "source": [
    "res = res.text"
   ]
  },
  {
   "cell_type": "code",
   "execution_count": 16,
   "metadata": {},
   "outputs": [],
   "source": [
    "from bs4 import BeautifulSoup"
   ]
  },
  {
   "cell_type": "code",
   "execution_count": 17,
   "metadata": {},
   "outputs": [],
   "source": [
    "soup = BeautifulSoup(res, \"lxml\")"
   ]
  },
  {
   "cell_type": "code",
   "execution_count": 27,
   "metadata": {},
   "outputs": [],
   "source": [
    "span_num = soup.find_all(\"div\", attrs={\"class\": \"list\"})"
   ]
  },
  {
   "cell_type": "code",
   "execution_count": 28,
   "metadata": {},
   "outputs": [
    {
     "data": {
      "text/plain": [
       "[<div class=\"list\"><div class=\"baner\"><span class=\"title select\">默认排序</span><span class=\"baner-item\">日薪</span><span class=\"baner-item\">成交</span><span class=\"baner-item\">经验</span></div><div class=\"item first\"><a href=\"/personalCenter/newResume/20259.html\" rel=\"nofollow\" target=\"_blank\"><div class=\"left\"><div class=\"imgBox\" style=\"background-image:url(http://image.juniuhui.com/user/avatar/20191125/4e9011f92b934cd3841a00f53a5f42f2-orig.jpg),url('/images/account/default_tx.png');\"></div><div class=\"content\"><h3>passing<img alt=\"\" src=\"/images/account/boy@2x.png\"/><span class=\"position\">APP开发工程师</span><span class=\"other team-2\">团队</span><span class=\"other\">郑州市</span><span class=\"other\">4年</span></h3><p class=\"skill\">技能：APP设计，APP产品，后台产品，产品咨询，iOS，Java，Android</p><p class=\"case\">作品：大学时代社区，畅聊</p></div></div></a><div class=\"right\"><p class=\"tag\"><span>完成 0 单</span><!-- --></p><div class=\"operation\" style=\"display:;\"><a href=\"/service/shops/\"></a><button class=\"collected collect\">收藏</button><button class=\"message\">和TA聊聊</button></div></div></div><div class=\"item\"><a href=\"/personalCenter/newResume/21103.html\" rel=\"nofollow\" target=\"_blank\"><div class=\"left\"><div class=\"imgBox\" style=\"background-image:url(http://image.juniuhui.com/user/avatar/20191227/0e9eb0932abe41d8843645e542795164-orig.jpg),url('/images/account/default_tx.png');\"></div><div class=\"content\"><h3>软件开发后生仔丶<img alt=\"\" src=\"/images/account/boy@2x.png\"/><span class=\"position\">技术总监</span><span class=\"other team-1\">个人</span><span class=\"other\">临沂市</span><span class=\"other\">8年</span></h3><p class=\"skill\">技能：HTML5，PHP，小程序，iOS，Android，Linux，数据库，C++，网站设计，原型设计，网站产品，APP产品，后台产品，需求撰写，产品咨询</p><p class=\"case\">作品：小马直播</p></div></div></a><div class=\"right\"><p class=\"tag\"><span>完成 0 单</span><em>500元/日</em></p><div class=\"operation\" style=\"display:;\"><a href=\"/service/shops/\"></a><button class=\"collected collect\">收藏</button><button class=\"message\">和TA聊聊</button></div></div></div><div class=\"item\"><a href=\"/personalCenter/newResume/17538.html\" rel=\"nofollow\" target=\"_blank\"><div class=\"left\"><div class=\"imgBox\" style=\"background-image:url(http://image.juniuhui.com/user/avatar/20190919/d09c48d9fce54b0592ef230b8eb4c65d-orig.jpg),url('/images/account/default_tx.png');\"></div><div class=\"content\"><h3>杭州天泽<img alt=\"\" src=\"/images/account/boy@2x.png\"/><span class=\"position\">技术负责人</span><span class=\"other team-2\">团队</span><span class=\"other\">杭州市</span><span class=\"other\">10年及以上</span></h3><p class=\"skill\">技能：APP产品，数据库，Java，小程序，C++，Python</p><p class=\"case\">作品：海通证券-互联网金融综合理财服务平台，海通证券网上营业厅，北美百应</p></div></div></a><div class=\"right\"><p class=\"tag\"><span>完成 0 单</span><!-- --></p><div class=\"operation\" style=\"display:;\"><a href=\"/service/shops/\"></a><button class=\"collected collect\">收藏</button><button class=\"message\">和TA聊聊</button></div></div></div><div class=\"item\"><a href=\"/personalCenter/newResume/20077.html\" rel=\"nofollow\" target=\"_blank\"><div class=\"left\"><div class=\"imgBox\" style=\"background-image:url(http://image.juniuhui.com/user/avatar/20191101/c50bdfd9fbd74cd19197e2fb54ff9565-orig.jpg),url('/images/account/default_tx.png');\"></div><div class=\"content\"><h3>Strange<img alt=\"\" src=\"/images/account/boy@2x.png\"/><span class=\"position\">项目部主管</span><span class=\"other team-2\">团队</span><span class=\"other\">武汉市</span><span class=\"other\">2年</span></h3><p class=\"skill\">技能：HTML5，JavaScript，CSS，小程序，C++，网站设计，APP设计，APP推广，用户运营</p><p class=\"case\">作品：马来西亚软件测评及开发用户体验</p></div></div></a><div class=\"right\"><p class=\"tag\"><span>完成 0 单</span><em>400元/日</em></p><div class=\"operation\" style=\"display:;\"><a href=\"/service/shops/\"></a><button class=\"collected collect\">收藏</button><button class=\"message\">和TA聊聊</button></div></div></div><div class=\"item\"><a href=\"/personalCenter/newResume/17645.html\" rel=\"nofollow\" target=\"_blank\"><div class=\"left\"><div class=\"imgBox\" style=\"background-image:url(http://image.juniuhui.com/user/avatar/20190827/9f8ff5df253e4b24bcd0984f42f23d86-orig.jpg),url('/images/account/default_tx.png');\"></div><div class=\"content\"><h3>bad   boy<img alt=\"\" src=\"/images/account/boy@2x.png\"/><span class=\"position\">商务主管</span><span class=\"other team-2\">团队</span><span class=\"other\">长沙市</span><span class=\"other\">4年</span></h3><p class=\"skill\">技能：Java，小程序，PHP</p><p class=\"case\">作品：红橙影视，云普车间商城小程序</p></div></div></a><div class=\"right\"><p class=\"tag\"><span>完成 0 单</span><em>888元/日</em></p><div class=\"operation\" style=\"display:;\"><a href=\"/service/shops/\"></a><button class=\"collected collect\">收藏</button><button class=\"message\">和TA聊聊</button></div></div></div><div class=\"item\"><a href=\"/personalCenter/newResume/19597.html\" rel=\"nofollow\" target=\"_blank\"><div class=\"left\"><div class=\"imgBox\" style=\"background-image:url(http://image.juniuhui.com/user/avatar/20190902/858dd27b98284a33a98c67a912e73812-orig.png),url('/images/account/default_tx.png');\"></div><div class=\"content\"><h3>厦门风寰科技<img alt=\"\" src=\"/images/account/boy@2x.png\"/><span class=\"position\">商务总监</span><span class=\"other team-2\">团队</span><span class=\"other\">厦门市</span><span class=\"other\">4年</span></h3><p class=\"skill\">技能：HTML5，Java，Android，小程序，C++，PHP，Photoshop，APP设计，网站设计，Flash，logo设计，JavaScript，CSS，数据库，原型设计，网站产品，APP产品，后台产品，需求撰写</p><p class=\"case\">作品：网站二开</p></div></div></a><div class=\"right\"><p class=\"tag\"><span>完成 0 单</span><!-- --></p><div class=\"operation\" style=\"display:;\"><a href=\"/service/shops/\"></a><button class=\"collected collect\">收藏</button><button class=\"message\">和TA聊聊</button></div></div></div><div class=\"item\"><a href=\"/personalCenter/newResume/20321.html\" rel=\"nofollow\" target=\"_blank\"><div class=\"left\"><div class=\"imgBox\" style=\"background-image:url(http://image.juniuhui.com/user/avatar/20191130/f57beaf8398d4b94a74b8dac3e321de7-orig.jpg),url('/images/account/default_tx.png');\"></div><div class=\"content\"><h3>IT技术服务商~啊远<img alt=\"\" src=\"/images/account/boy@2x.png\"/><span class=\"position\">多端软件开发工程师</span><span class=\"other team-2\">团队</span><span class=\"other\">汕头市</span><span class=\"other\">7年</span></h3><p class=\"skill\">技能：HTML5，数据库，PHP，Python，网站设计，原型设计，后台产品，APP产品，网站产品</p><p class=\"case\">作品：景区智能系统</p></div></div></a><div class=\"right\"><p class=\"tag\"><span>完成 0 单</span><em>200元/日</em></p><div class=\"operation\" style=\"display:;\"><a href=\"/service/shops/\"></a><button class=\"collected collect\">收藏</button><button class=\"message\">和TA聊聊</button></div></div></div><div class=\"item\"><a href=\"/personalCenter/newResume/19234.html\" rel=\"nofollow\" target=\"_blank\"><div class=\"left\"><div class=\"imgBox\" style=\"background-image:url(http://image.juniuhui.com/user/avatar/20190715/622a96def11d4377bc79f9eed6dcffb1-orig.png),url('/images/account/default_tx.png');\"></div><div class=\"content\"><h3>小孙<img alt=\"\" src=\"/images/account/boy@2x.png\"/><span class=\"position\">高级java开发</span><span class=\"other team-1\">个人</span><span class=\"other\">北京市</span><span class=\"other\">5年</span></h3><p class=\"skill\">技能：HTML5，JavaScript，Java，CSS，小程序，Linux，数据库，Python，Photoshop，原型设计，后台产品，需求撰写</p><p class=\"case\">作品：神工007用户版，神工007客服系统，京东内部服饰管理系统</p></div></div></a><div class=\"right\"><p class=\"tag\"><span>完成 0 单</span><em>1000元/日</em></p><div class=\"operation\" style=\"display:;\"><a href=\"/service/shops/\"></a><button class=\"collected collect\">收藏</button><button class=\"message\">和TA聊聊</button></div></div></div><div class=\"item\"><a href=\"/personalCenter/newResume/20604.html\" rel=\"nofollow\" target=\"_blank\"><div class=\"left\"><div class=\"imgBox\" style=\"background-image:url(http://image.juniuhui.com/user/avatar/20191227/92d5ad8f15df4a5485908d1751bfe18b-orig.png),url('/images/account/default_tx.png');\"></div><div class=\"content\"><h3>胡二毛<img alt=\"\" src=\"/images/account/boy@2x.png\"/><span class=\"position\">Java开发</span><span class=\"other team-1\">个人</span><span class=\"other\">长沙市</span><span class=\"other\">2年</span></h3><p class=\"skill\">技能：小程序，Java，JavaScript，数据库，HTML5，CSS</p><p class=\"case\">作品：足球传奇</p></div></div></a><div class=\"right\"><p class=\"tag\"><span>完成 0 单</span><!-- --></p><div class=\"operation\" style=\"display:;\"><a href=\"/service/shops/\"></a><button class=\"collected collect\">收藏</button><button class=\"message\">和TA聊聊</button></div></div></div><div class=\"item\"><a href=\"/personalCenter/newResume/20556.html\" rel=\"nofollow\" target=\"_blank\"><div class=\"left\"><div class=\"imgBox\" style=\"background-image:url(http://image.juniuhui.com/user/avatar/20191221/fa9711c07d764547a2ef7421f1fbfc93-orig.jpg),url('/images/account/default_tx.png');\"></div><div class=\"content\"><h3>abingtech<img alt=\"\" src=\"/images/account/boy@2x.png\"/><span class=\"position\">高级java开发</span><span class=\"other team-2\">团队</span><span class=\"other\">深圳市</span><span class=\"other\">9年</span></h3><p class=\"skill\">技能：HTML5，JavaScript，Java，PHP，小程序，CSS，Linux，数据库，网站设计，网站产品，后台产品</p><p class=\"case\">作品：炫宝物联微信公众号</p></div></div></a><div class=\"right\"><p class=\"tag\"><span>完成 0 单</span><em>800元/日</em></p><div class=\"operation\" style=\"display:;\"><a href=\"/service/shops/\"></a><button class=\"collected collect\">收藏</button><button class=\"message\">和TA聊聊</button></div></div></div><!-- --><div class=\"pagination\" data-v-4cd2cf5d=\"\"><span class=\"inline\" data-v-4cd2cf5d=\"\"><!-- --><div class=\"prve unok\" data-v-4cd2cf5d=\"\">‹</div></span><span class=\"num\" data-v-4cd2cf5d=\"\"><span data-v-4cd2cf5d=\"\"><!-- --><div class=\"cur\" data-v-4cd2cf5d=\"\">1</div></span><span data-v-4cd2cf5d=\"\"><a data-v-4cd2cf5d=\"\" href=\"/talentPool/talentList/index/2?randomKey=7126\">2</a><!-- --></span><span data-v-4cd2cf5d=\"\"><a data-v-4cd2cf5d=\"\" href=\"/talentPool/talentList/index/3?randomKey=9287\">3</a><!-- --></span><span data-v-4cd2cf5d=\"\"><a data-v-4cd2cf5d=\"\" href=\"/talentPool/talentList/index/4?randomKey=2230\">4</a><!-- --></span><span data-v-4cd2cf5d=\"\"><a data-v-4cd2cf5d=\"\" href=\"/talentPool/talentList/index/5?randomKey=1811\">5</a><!-- --></span><span data-v-4cd2cf5d=\"\"><!-- --><div class=\"separate\" data-v-4cd2cf5d=\"\">...</div></span><span data-v-4cd2cf5d=\"\"><a data-v-4cd2cf5d=\"\" href=\"/talentPool/talentList/index/102?randomKey=108\">102</a><!-- --></span></span><span class=\"inline\" data-v-4cd2cf5d=\"\"><a class=\"next\" data-v-4cd2cf5d=\"\" href=\"/talentPool/talentList/index/2?randomKey=4930\">›</a><!-- --></span></div></div>]"
      ]
     },
     "execution_count": 28,
     "metadata": {},
     "output_type": "execute_result"
    }
   ],
   "source": [
    "span_num"
   ]
  },
  {
   "cell_type": "code",
   "execution_count": null,
   "metadata": {},
   "outputs": [],
   "source": []
  }
 ],
 "metadata": {
  "kernelspec": {
   "display_name": "Python 3",
   "language": "python",
   "name": "python3"
  },
  "language_info": {
   "codemirror_mode": {
    "name": "ipython",
    "version": 3
   },
   "file_extension": ".py",
   "mimetype": "text/x-python",
   "name": "python",
   "nbconvert_exporter": "python",
   "pygments_lexer": "ipython3",
   "version": "3.6.8"
  }
 },
 "nbformat": 4,
 "nbformat_minor": 2
}
