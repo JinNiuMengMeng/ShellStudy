{
 "cells": [
  {
   "cell_type": "code",
   "execution_count": null,
   "metadata": {},
   "outputs": [],
   "source": "import os\nimport glob\ndef search_file(start_dir):\n    os.chdir(start_dir)\n    for each_file in os.listdir(os.curdir):\n        if os.path.isdir(each_file):\n            search_file(each_file)\n            os.chdir(os.pardir)\n        else:\n            file_path = os.getcwd() + os.sep + each_file\n            with open(file_path) as f:\n                f.readline()\n                line_con = f.readline()\n                if \"assets\" in line_con:\n                    print file_path, line_con\n\nfor name in glob.glob(r'/cache0'):\n    search_file(name)\n"
  },
  {
   "cell_type": "code",
   "execution_count": 23,
   "metadata": {},
   "outputs": [],
   "source": "url = \"http://670u.starrye.com\""
  },
  {
   "cell_type": "code",
   "execution_count": 24,
   "metadata": {},
   "outputs": [
    {
     "name": "stdout",
     "output_type": "stream",
     "text": "['http://670u.starrye.', '']\n"
    }
   ],
   "source": "print url.split(\"com\")"
  },
  {
   "cell_type": "code",
   "execution_count": 26,
   "metadata": {},
   "outputs": [],
   "source": "a = \"sd'{}'fa\".format(111)"
  },
  {
   "cell_type": "code",
   "execution_count": 27,
   "metadata": {},
   "outputs": [
    {
     "data": {
      "text/plain": "\"sd'111'fa\""
     },
     "execution_count": 27,
     "metadata": {},
     "output_type": "execute_result"
    }
   ],
   "source": "a"
  },
  {
   "cell_type": "code",
   "execution_count": null,
   "metadata": {},
   "outputs": [],
   "source": ""
  },
  {
   "cell_type": "code",
   "execution_count": null,
   "metadata": {},
   "outputs": [],
   "source": "import os\nimport glob\nimport multiprocessing\n\ndef search_file(start_dir):\n    os.chdir(start_dir)\n    for each_file in os.listdir(os.curdir):\n        if os.path.isdir(each_file):\n            search_file(each_file)\n            os.chdir(os.pardir)\n        else:\n            file_path = os.getcwd() + os.sep + each_file\n            with open(file_path) as f:\n                f.readline()\n                line_con = f.readline()\n                if \"assets\" in line_con:\n                    print file_path\n\nfor name in glob.glob(r'/cache*'):\n    print name\n    process_list = []\n    process_list.append(multiprocessing.Process(target=search_file, args=(name, )))\n    for one_process in process_list:\n        one_process.start()\n    for one_process in process_list:\n        one_process.join()"
  },
  {
   "cell_type": "code",
   "execution_count": null,
   "metadata": {},
   "outputs": [],
   "source": "import os\nimport glob\nimport multiprocessing\n\ndef search_file(start_dir):\n    os.chdir(start_dir)\n    for each_file in os.listdir(os.curdir):\n        if os.path.isdir(each_file):\n            search_file(each_file)\n            os.chdir(os.pardir)\n        else:\n            file_path = os.getcwd() + os.sep + each_file\n            with open(file_path) as f:\n                f.readline()\n                line_con = f.readline()\n                if \"assets\" in line_con:\n                    print file_path\n\npool = multiprocessing.Pool(processes=12)\nfor name in glob.glob(r'/cache*'):\n    pool.apply_async(search_file, (name, ))\npool.close()\npool.join()"
  },
  {
   "cell_type": "code",
   "execution_count": 43,
   "metadata": {},
   "outputs": [],
   "source": "def test_():\n    a = 0\n    def a_add(a):\n        print a\n        a += 2\n        return a\n    a = a_add(a)\n    print a"
  },
  {
   "cell_type": "code",
   "execution_count": 44,
   "metadata": {},
   "outputs": [
    {
     "name": "stdout",
     "output_type": "stream",
     "text": "0\n2\n"
    }
   ],
   "source": "test_()"
  },
  {
   "cell_type": "code",
   "execution_count": 45,
   "metadata": {},
   "outputs": [
    {
     "data": {
      "text/plain": "['k16808', 'common/template/lottery/jimei/js/assets/css/amazeui.min.css']"
     },
     "execution_count": 45,
     "metadata": {},
     "output_type": "execute_result"
    }
   ],
   "source": "url  = \"k16808.com/common/template/lottery/jimei/js/assets/css/amazeui.min.css\"\nurl.split(\".com/\")"
  },
  {
   "cell_type": "code",
   "execution_count": null,
   "metadata": {},
   "outputs": [],
   "source": ""
  }
 ],
 "metadata": {
  "kernelspec": {
   "display_name": "Python 2",
   "language": "python",
   "name": "python2"
  },
  "language_info": {
   "codemirror_mode": {
    "name": "ipython",
    "version": 2
   },
   "file_extension": ".py",
   "mimetype": "text/x-python",
   "name": "python",
   "nbconvert_exporter": "python",
   "pygments_lexer": "ipython2",
   "version": "2.7.14"
  }
 },
 "nbformat": 4,
 "nbformat_minor": 4
}
