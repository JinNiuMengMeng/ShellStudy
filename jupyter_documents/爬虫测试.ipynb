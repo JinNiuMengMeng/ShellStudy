{
 "cells": [
  {
   "cell_type": "code",
   "execution_count": 36,
   "metadata": {},
   "outputs": [],
   "source": [
    "import requests"
   ]
  },
  {
   "cell_type": "code",
   "execution_count": 44,
   "metadata": {},
   "outputs": [
    {
     "name": "stdout",
     "output_type": "stream",
     "text": [
      "200\n",
      "{'jb_result': -1, 'jb_msg': '用户名或密码错误'}\n",
      "{'Server': 'nginx', 'Date': 'Mon, 27 May 2019 07:00:03 GMT', 'Content-Type': 'text/html; charset=UTF-8', 'Transfer-Encoding': 'chunked', 'Connection': 'keep-alive', 'Keep-Alive': 'timeout=2', 'Vary': 'Accept-Encoding', 'X-Powered-By': 'PHP/5.3.3', 'X-Robots-Tag': 'noindex', 'X-Content-Type-Options': 'nosniff', 'Expires': 'Wed, 11 Jan 1984 05:00:00 GMT', 'Cache-Control': 'no-cache, must-revalidate, max-age=0', 'Pragma': 'no-cache', 'X-Frame-Options': 'SAMEORIGIN', 'Content-Encoding': 'gzip'}\n"
     ]
    }
   ],
   "source": [
    "data = {\n",
    "    \"action\": \"user_login\",\n",
    "    \"user_login\": \"411317572@qq.com\",\n",
    "    \"user_pass\": \"Aa411317572\",\n",
    "    \"remember_me\": \"1\"\n",
    "}\n",
    "res = requests.post(\"http://www.jobbole.com/wp-admin/admin-ajax.php\", data=data)\n",
    "print(res.status_code)\n",
    "print(eval(res.content))\n",
    "print(res.headers)"
   ]
  },
  {
   "cell_type": "code",
   "execution_count": 38,
   "metadata": {},
   "outputs": [
    {
     "name": "stdout",
     "output_type": "stream",
     "text": [
      "200\n",
      "0\n",
      "{'Server': 'nginx', 'Date': 'Mon, 27 May 2019 06:39:12 GMT', 'Content-Type': 'text/html; charset=utf-8', 'Transfer-Encoding': 'chunked', 'Connection': 'keep-alive', 'Keep-Alive': 'timeout=2', 'Vary': 'Accept-Encoding', 'X-Powered-By': 'PHP/5.3.3', 'Content-Encoding': 'gzip'}\n"
     ]
    }
   ],
   "source": [
    "data = {\n",
    "    \"action\": \"user_login\",\n",
    "    \"user_login\": \"411317572@qq.com\",\n",
    "    \"user_pass\": \"Aa411317572\",\n",
    "    \"remember_me\": \"1\"\n",
    "}\n",
    "res = requests.get(\"http://www.jobbole.com/wp-admin/admin-ajax.php\", data=data)\n",
    "print(res.status_code)\n",
    "print(eval(res.content))\n",
    "print(res.headers)"
   ]
  },
  {
   "cell_type": "markdown",
   "metadata": {},
   "source": [
    "## Zaker 爬去"
   ]
  },
  {
   "cell_type": "code",
   "execution_count": 59,
   "metadata": {},
   "outputs": [],
   "source": [
    "import requests\n",
    "from bs4 import BeautifulSoup\n",
    "from urllib.parse import urljoin"
   ]
  },
  {
   "cell_type": "code",
   "execution_count": 60,
   "metadata": {},
   "outputs": [],
   "source": [
    "url = \"http://www.myzaker.com/channel/8\""
   ]
  },
  {
   "cell_type": "code",
   "execution_count": 61,
   "metadata": {},
   "outputs": [],
   "source": [
    "res = requests.get(url)\n",
    "soup = BeautifulSoup(res.text, 'html.parser', from_encoding='utf-8')\n",
    "result = []"
   ]
  },
  {
   "cell_type": "code",
   "execution_count": 63,
   "metadata": {},
   "outputs": [],
   "source": [
    "tags_a = soup.find_all('a')\n",
    "for i in tags:\n",
    "    result.append(urljoin(url, i[\"href\"]))"
   ]
  },
  {
   "cell_type": "code",
   "execution_count": 64,
   "metadata": {},
   "outputs": [
    {
     "name": "stdout",
     "output_type": "stream",
     "text": [
      "http://zkres.myzaker.com\n",
      "http://zkres1.myzaker.com\n",
      "http://zkres2.myzaker.com\n",
      "http://zkres.myzaker.com/static/zaker_web2/css/index.min.css?v=20170726\n",
      "http://zkres.myzaker.com/static/zaker_web2/css/normalize.min.css?v=20170122\n",
      "http://zkres.myzaker.com/static/zaker_web2/css/base.min.css?v=20170726\n",
      "http://zkres.myzaker.com/static/zaker_web2/css/hotSearch.min.css?v=20170726\n",
      "http://zkres.myzaker.com/static/zaker_web2/css/location.min.css?v=20171027\n"
     ]
    }
   ],
   "source": [
    "tags_link = soup.find_all('link')\n",
    "for i in tags_link:\n",
    "    result.append(urljoin(url, i[\"href\"]))\n",
    "    print(urljoin(url, i[\"href\"]))"
   ]
  },
  {
   "cell_type": "code",
   "execution_count": 65,
   "metadata": {},
   "outputs": [
    {
     "name": "stdout",
     "output_type": "stream",
     "text": [
      "244\n"
     ]
    }
   ],
   "source": [
    "print(len(result))"
   ]
  },
  {
   "cell_type": "code",
   "execution_count": 67,
   "metadata": {},
   "outputs": [],
   "source": [
    "for i in result:\n",
    "#     print(i)\n",
    "    pass"
   ]
  },
  {
   "cell_type": "code",
   "execution_count": null,
   "metadata": {},
   "outputs": [],
   "source": []
  },
  {
   "cell_type": "markdown",
   "metadata": {},
   "source": [
    "## 数据抓取"
   ]
  },
  {
   "cell_type": "markdown",
   "metadata": {},
   "source": [
    "简单部分"
   ]
  },
  {
   "cell_type": "markdown",
   "metadata": {},
   "source": [
    "`app`中的数据比`web`端数据更容易抓取, 反爬虫没有那么强, 大部分都是`http/https`协议, 返回的数据大部分为`json`"
   ]
  },
  {
   "cell_type": "markdown",
   "metadata": {},
   "source": [
    "困难部分"
   ]
  },
  {
   "cell_type": "markdown",
   "metadata": {},
   "source": [
    "1. 可能需要反编译, 分析出加密算法并抓取到信息\n",
    "2. 可能加固, 需要脱壳, 然后反编译, 分析出加密算法并抓取信息\n",
    "3. 需要破解通过各式各样的签名, 证书, 设备绑定等方法, 找到隐藏加密算法"
   ]
  },
  {
   "cell_type": "markdown",
   "metadata": {},
   "source": [
    "掌握技术"
   ]
  },
  {
   "cell_type": "markdown",
   "metadata": {},
   "source": [
    "1. `python`爬虫经验\n",
    "2. `app`逆向\n",
    "3. `java`开发基础\n",
    "4. `app`脱壳\n",
    "5. `android`开发基础\n",
    "6. 破解加密算法"
   ]
  },
  {
   "cell_type": "markdown",
   "metadata": {},
   "source": [
    "## 基于Docker打造的多任务抓取系统"
   ]
  },
  {
   "cell_type": "markdown",
   "metadata": {},
   "source": [
    "![](./pictures/2019-05-29_11-22.png)"
   ]
  },
  {
   "cell_type": "code",
   "execution_count": 1,
   "metadata": {},
   "outputs": [],
   "source": [
    "import requests\n",
    "from bs4 import BeautifulSoup\n",
    "from urllib.parse import urljoin"
   ]
  },
  {
   "cell_type": "code",
   "execution_count": 2,
   "metadata": {},
   "outputs": [
    {
     "name": "stderr",
     "output_type": "stream",
     "text": [
      "/home/ubuntu/pyenv/py3env/lib/python3.6/site-packages/bs4/__init__.py:177: UserWarning: You provided Unicode markup but also provided a value for from_encoding. Your from_encoding will be ignored.\n",
      "  warnings.warn(\"You provided Unicode markup but also provided a value for from_encoding. Your from_encoding will be ignored.\")\n"
     ]
    }
   ],
   "source": [
    "url = \"https://cl.egccf.com/thread0806.php?fid=8\"\n",
    "res = requests.get(url)\n",
    "soup = BeautifulSoup(res.text, 'html.parser', from_encoding='gbk')\n",
    "tags_a = soup.find_all('a')"
   ]
  },
  {
   "cell_type": "markdown",
   "metadata": {},
   "source": [
    "第一层"
   ]
  },
  {
   "cell_type": "code",
   "execution_count": 3,
   "metadata": {},
   "outputs": [],
   "source": [
    "result_first = []\n",
    "for i in tags_a:\n",
    "    result_first.append(urljoin(url, i.get(\"href\", \"\")))"
   ]
  },
  {
   "cell_type": "markdown",
   "metadata": {},
   "source": [
    "第二层"
   ]
  },
  {
   "cell_type": "code",
   "execution_count": 4,
   "metadata": {},
   "outputs": [],
   "source": [
    "# input data-link='https://www.touimg.com/i/?i=u/20190530/14030684.jpg' data-src"
   ]
  },
  {
   "cell_type": "code",
   "execution_count": 5,
   "metadata": {},
   "outputs": [
    {
     "name": "stdout",
     "output_type": "stream",
     "text": [
      "https://cl.egccf.com/\n",
      "https://cl.egccf.com/login.php\n",
      "https://cl.egccf.com/register.php\n",
      "https://cl.egccf.com/search.php\n",
      "https://cl.egccf.com/thread0806.php?fid=8\n",
      "https://cl.egccf.com/hack.php?H_name=bank\n",
      "https://cl.egccf.com/hack.php?H_name=invite\n",
      "https://cl.egccf.com/faq.php\n",
      "https://cl.egccf.com/index.php\n",
      "https://cl.egccf.com/thread0806.php?fid=8\n",
      "https://cl.egccf.com/rss.php?fid=8\n",
      "https://cl.egccf.com/notice.php?fid=8#20\n",
      "javascript:#\n",
      "javascript:#\n",
      "https://cl.egccf.com/thread0806.php?fid=8\n",
      "https://cl.egccf.com/thread0806.php?fid=8&search=&page=2\n",
      "https://cl.egccf.com/thread0806.php?fid=8&search=&page=3\n",
      "https://cl.egccf.com/thread0806.php?fid=8&search=&page=4\n",
      "https://cl.egccf.com/thread0806.php?fid=8\n",
      "https://cl.egccf.com/thread0806.php?fid=8&search=&page=2\n",
      "https://cl.egccf.com/thread0806.php?fid=8&search=&page=88\n",
      "https://cl.egccf.com/post.php?fid=8\n",
      "https://cl.egccf.com/post.php?fid=8&special=1\n",
      "https://cl.egccf.com/thread0806.php?fid=8\n",
      "https://cl.egccf.com/thread0806.php?fid=8&search=today\n",
      "https://cl.egccf.com/thread0806.php?fid=8&search=digest\n",
      "https://cl.egccf.com/thread0806.php?fid=8&type=1\n",
      "https://cl.egccf.com/thread0806.php?fid=8&type=2\n",
      "https://cl.egccf.com/thread0806.php?fid=8&type=3\n",
      "https://cl.egccf.com/thread0806.php?fid=8&type=4\n",
      "https://cl.egccf.com/thread0806.php?fid=8&type=12\n",
      "https://cl.egccf.com/thread0806.php?fid=8\n",
      "https://cl.egccf.com/profile.php?action=show&username=valen\n",
      "https://cl.egccf.com/profile.php?action=show&username=brent\n",
      "https://cl.egccf.com/profile.php?action=show&username=Diss\n",
      "https://cl.egccf.com/notice.php?fid=-1#1\n",
      "https://cl.egccf.com/profile.php?action=show&username=administrator\n",
      "https://cl.egccf.com/notice.php?fid=-1\n",
      "https://cl.egccf.com/read.php?tid=5877\n",
      "https://cl.egccf.com/read.php?tid=5877\n",
      "https://cl.egccf.com/read.php?tid=5877&page=1&fpage=1\n",
      "https://cl.egccf.com/read.php?tid=5877&page=2&fpage=1\n",
      "https://cl.egccf.com/read.php?tid=5877&page=3&fpage=1\n",
      "https://cl.egccf.com/read.php?tid=5877&page=4&fpage=1\n",
      "https://cl.egccf.com/read.php?tid=5877&page=5&fpage=1\n",
      "https://cl.egccf.com/read.php?tid=5877&page=719&fpage=1\n",
      "https://cl.egccf.com/show.php?uid=62\n",
      "https://cl.egccf.com/read.php?tid=5877&page=e&fpage=1#a\n",
      "https://cl.egccf.com/htm_data/8/1109/594739.html\n",
      "https://cl.egccf.com/htm_data/8/1109/594739.html\n",
      "https://cl.egccf.com/read.php?tid=594739&page=1&fpage=1\n",
      "https://cl.egccf.com/read.php?tid=594739&page=2&fpage=1\n",
      "https://cl.egccf.com/read.php?tid=594739&page=3&fpage=1\n",
      "https://cl.egccf.com/read.php?tid=594739&page=4&fpage=1\n",
      "https://cl.egccf.com/read.php?tid=594739&page=5&fpage=1\n",
      "https://cl.egccf.com/read.php?tid=594739&page=19&fpage=1\n",
      "https://cl.egccf.com/show.php?uid=69760\n",
      "https://cl.egccf.com/read.php?tid=594739&page=e&fpage=1#a\n",
      "https://cl.egccf.com/htm_data/8/1803/3018643.html\n",
      "https://cl.egccf.com/htm_data/8/1803/3018643.html\n",
      "https://cl.egccf.com/read.php?tid=3018643&page=1&fpage=1\n",
      "https://cl.egccf.com/read.php?tid=3018643&page=2&fpage=1\n",
      "https://cl.egccf.com/read.php?tid=3018643&page=3&fpage=1\n",
      "https://cl.egccf.com/read.php?tid=3018643&page=4&fpage=1\n",
      "https://cl.egccf.com/read.php?tid=3018643&page=5&fpage=1\n",
      "https://cl.egccf.com/read.php?tid=3018643&page=6&fpage=1\n",
      "https://cl.egccf.com/show.php?uid=69761\n",
      "https://cl.egccf.com/read.php?tid=3018643&page=e&fpage=1#a\n",
      "https://cl.egccf.com/htm_data/8/0706/36794.html\n",
      "https://cl.egccf.com/htm_data/8/0706/36794.html\n",
      "https://cl.egccf.com/read.php?tid=36794&page=1&fpage=1\n",
      "https://cl.egccf.com/read.php?tid=36794&page=2&fpage=1\n",
      "https://cl.egccf.com/read.php?tid=36794&page=3&fpage=1\n",
      "https://cl.egccf.com/read.php?tid=36794&page=4&fpage=1\n",
      "https://cl.egccf.com/read.php?tid=36794&page=5&fpage=1\n",
      "https://cl.egccf.com/read.php?tid=36794&page=46&fpage=1\n",
      "https://cl.egccf.com/show.php?uid=62\n",
      "https://cl.egccf.com/read.php?tid=36794&page=e&fpage=1#a\n",
      "https://cl.egccf.com/htm_data/8/1903/344500.html\n",
      "https://cl.egccf.com/htm_data/8/1903/344500.html\n",
      "https://cl.egccf.com/read.php?tid=344500&page=1&fpage=1\n",
      "https://cl.egccf.com/read.php?tid=344500&page=2&fpage=1\n",
      "https://cl.egccf.com/read.php?tid=344500&page=3&fpage=1\n",
      "https://cl.egccf.com/read.php?tid=344500&page=4&fpage=1\n",
      "https://cl.egccf.com/read.php?tid=344500&page=5&fpage=1\n",
      "https://cl.egccf.com/read.php?tid=344500&page=49&fpage=1\n",
      "https://cl.egccf.com/show.php?uid=29930\n",
      "https://cl.egccf.com/read.php?tid=344500&page=e&fpage=1#a\n",
      "https://cl.egccf.com/htm_data/8/1106/524775.html\n",
      "https://cl.egccf.com/htm_data/8/1106/524775.html\n",
      "https://cl.egccf.com/read.php?tid=524775&page=1&fpage=1\n",
      "https://cl.egccf.com/read.php?tid=524775&page=2&fpage=1\n",
      "https://cl.egccf.com/read.php?tid=524775&page=3&fpage=1\n",
      "https://cl.egccf.com/read.php?tid=524775&page=4&fpage=1\n",
      "https://cl.egccf.com/read.php?tid=524775&page=5&fpage=1\n",
      "https://cl.egccf.com/read.php?tid=524775&page=33&fpage=1\n",
      "https://cl.egccf.com/show.php?uid=115619\n",
      "https://cl.egccf.com/read.php?tid=524775&page=e&fpage=1#a\n",
      "https://cl.egccf.com/htm_data/8/1905/3540560.html\n",
      "https://cl.egccf.com/htm_data/8/1905/3540560.html\n",
      "https://cl.egccf.com/show.php?uid=529221\n",
      "https://cl.egccf.com/read.php?tid=3540560&page=e&fpage=1#a\n",
      "https://cl.egccf.com/htm_data/8/1905/3540489.html\n",
      "https://cl.egccf.com/htm_data/8/1905/3540489.html\n",
      "https://cl.egccf.com/show.php?uid=531311\n",
      "https://cl.egccf.com/read.php?tid=3540489&page=e&fpage=1#a\n",
      "https://cl.egccf.com/htm_data/8/1905/3540487.html\n",
      "https://cl.egccf.com/htm_data/8/1905/3540487.html\n",
      "https://cl.egccf.com/show.php?uid=524937\n",
      "https://cl.egccf.com/read.php?tid=3540487&page=e&fpage=1#a\n",
      "https://cl.egccf.com/htm_data/8/1905/3540469.html\n",
      "https://cl.egccf.com/htm_data/8/1905/3540469.html\n",
      "https://cl.egccf.com/show.php?uid=513275\n",
      "https://cl.egccf.com/read.php?tid=3540469&page=e&fpage=1#a\n",
      "https://cl.egccf.com/htm_data/8/1905/3540464.html\n",
      "https://cl.egccf.com/htm_data/8/1905/3540464.html\n",
      "https://cl.egccf.com/show.php?uid=524937\n",
      "https://cl.egccf.com/read.php?tid=3540464&page=e&fpage=1#a\n",
      "https://cl.egccf.com/htm_data/8/1905/3540453.html\n",
      "https://cl.egccf.com/htm_data/8/1905/3540453.html\n",
      "https://cl.egccf.com/show.php?uid=518992\n",
      "https://cl.egccf.com/read.php?tid=3540453&page=e&fpage=1#a\n",
      "https://cl.egccf.com/htm_data/8/1905/3540437.html\n",
      "https://cl.egccf.com/htm_data/8/1905/3540437.html\n",
      "https://cl.egccf.com/show.php?uid=523054\n",
      "https://cl.egccf.com/read.php?tid=3540437&page=e&fpage=1#a\n",
      "https://cl.egccf.com/htm_data/8/1905/3540433.html\n",
      "https://cl.egccf.com/htm_data/8/1905/3540433.html\n",
      "https://cl.egccf.com/show.php?uid=529251\n",
      "https://cl.egccf.com/read.php?tid=3540433&page=e&fpage=1#a\n",
      "https://cl.egccf.com/htm_data/8/1905/3540432.html\n",
      "https://cl.egccf.com/htm_data/8/1905/3540432.html\n",
      "https://cl.egccf.com/show.php?uid=526148\n",
      "https://cl.egccf.com/read.php?tid=3540432&page=e&fpage=1#a\n",
      "https://cl.egccf.com/htm_data/8/1905/3540428.html\n",
      "https://cl.egccf.com/htm_data/8/1905/3540428.html\n",
      "https://cl.egccf.com/show.php?uid=523054\n",
      "https://cl.egccf.com/read.php?tid=3540428&page=e&fpage=1#a\n",
      "https://cl.egccf.com/htm_data/8/1905/3540426.html\n",
      "https://cl.egccf.com/htm_data/8/1905/3540426.html\n",
      "https://cl.egccf.com/show.php?uid=513275\n",
      "https://cl.egccf.com/read.php?tid=3540426&page=e&fpage=1#a\n",
      "https://cl.egccf.com/htm_data/8/1905/3540425.html\n",
      "https://cl.egccf.com/htm_data/8/1905/3540425.html\n",
      "https://cl.egccf.com/show.php?uid=513275\n",
      "https://cl.egccf.com/read.php?tid=3540425&page=e&fpage=1#a\n",
      "https://cl.egccf.com/htm_data/8/1905/3540421.html\n",
      "https://cl.egccf.com/htm_data/8/1905/3540421.html\n",
      "https://cl.egccf.com/show.php?uid=529251\n",
      "https://cl.egccf.com/read.php?tid=3540421&page=e&fpage=1#a\n",
      "https://cl.egccf.com/htm_data/8/1905/3540354.html\n",
      "https://cl.egccf.com/htm_data/8/1905/3540354.html\n",
      "https://cl.egccf.com/show.php?uid=526148\n",
      "https://cl.egccf.com/read.php?tid=3540354&page=e&fpage=1#a\n",
      "https://cl.egccf.com/htm_data/8/1905/3540350.html\n",
      "https://cl.egccf.com/htm_data/8/1905/3540350.html\n",
      "https://cl.egccf.com/show.php?uid=529221\n",
      "https://cl.egccf.com/read.php?tid=3540350&page=e&fpage=1#a\n",
      "https://cl.egccf.com/htm_data/8/1905/3540271.html\n",
      "https://cl.egccf.com/htm_data/8/1905/3540271.html\n",
      "https://cl.egccf.com/show.php?uid=518992\n",
      "https://cl.egccf.com/read.php?tid=3540271&page=e&fpage=1#a\n",
      "https://cl.egccf.com/htm_data/8/1905/3540270.html\n",
      "https://cl.egccf.com/htm_data/8/1905/3540270.html\n",
      "https://cl.egccf.com/show.php?uid=454755\n",
      "https://cl.egccf.com/read.php?tid=3540270&page=e&fpage=1#a\n",
      "https://cl.egccf.com/htm_data/8/1905/3540264.html\n",
      "https://cl.egccf.com/htm_data/8/1905/3540264.html\n",
      "https://cl.egccf.com/show.php?uid=529085\n",
      "https://cl.egccf.com/read.php?tid=3540264&page=e&fpage=1#a\n",
      "https://cl.egccf.com/htm_data/8/1905/3540263.html\n",
      "https://cl.egccf.com/htm_data/8/1905/3540263.html\n",
      "https://cl.egccf.com/show.php?uid=523250\n",
      "https://cl.egccf.com/read.php?tid=3540263&page=e&fpage=1#a\n",
      "https://cl.egccf.com/htm_data/8/1905/3540259.html\n",
      "https://cl.egccf.com/htm_data/8/1905/3540259.html\n",
      "https://cl.egccf.com/show.php?uid=382748\n",
      "https://cl.egccf.com/read.php?tid=3540259&page=e&fpage=1#a\n",
      "https://cl.egccf.com/htm_data/8/1905/3540258.html\n",
      "https://cl.egccf.com/htm_data/8/1905/3540258.html\n",
      "https://cl.egccf.com/show.php?uid=520329\n",
      "https://cl.egccf.com/read.php?tid=3540258&page=e&fpage=1#a\n",
      "https://cl.egccf.com/htm_data/8/1905/3540257.html\n",
      "https://cl.egccf.com/htm_data/8/1905/3540257.html\n",
      "https://cl.egccf.com/show.php?uid=529085\n",
      "https://cl.egccf.com/read.php?tid=3540257&page=e&fpage=1#a\n",
      "https://cl.egccf.com/htm_data/8/1905/3540255.html\n",
      "https://cl.egccf.com/htm_data/8/1905/3540255.html\n",
      "https://cl.egccf.com/show.php?uid=6445\n",
      "https://cl.egccf.com/read.php?tid=3540255&page=e&fpage=1#a\n",
      "https://cl.egccf.com/htm_data/8/1905/3540244.html\n",
      "https://cl.egccf.com/htm_data/8/1905/3540244.html\n",
      "https://cl.egccf.com/show.php?uid=463158\n",
      "https://cl.egccf.com/read.php?tid=3540244&page=e&fpage=1#a\n",
      "https://cl.egccf.com/htm_data/8/1905/3540240.html\n",
      "https://cl.egccf.com/htm_data/8/1905/3540240.html\n",
      "https://cl.egccf.com/show.php?uid=518992\n",
      "https://cl.egccf.com/read.php?tid=3540240&page=e&fpage=1#a\n",
      "https://cl.egccf.com/htm_data/8/1905/3540239.html\n",
      "https://cl.egccf.com/htm_data/8/1905/3540239.html\n",
      "https://cl.egccf.com/show.php?uid=454755\n",
      "https://cl.egccf.com/read.php?tid=3540239&page=e&fpage=1#a\n",
      "https://cl.egccf.com/htm_data/8/1905/3540236.html\n",
      "https://cl.egccf.com/htm_data/8/1905/3540236.html\n",
      "https://cl.egccf.com/show.php?uid=463158\n",
      "https://cl.egccf.com/read.php?tid=3540236&page=e&fpage=1#a\n",
      "https://cl.egccf.com/htm_data/8/1905/3540235.html\n",
      "https://cl.egccf.com/htm_data/8/1905/3540235.html\n",
      "https://cl.egccf.com/show.php?uid=529221\n",
      "https://cl.egccf.com/read.php?tid=3540235&page=e&fpage=1#a\n",
      "https://cl.egccf.com/htm_data/8/1905/3540232.html\n",
      "https://cl.egccf.com/htm_data/8/1905/3540232.html\n",
      "https://cl.egccf.com/show.php?uid=463158\n",
      "https://cl.egccf.com/read.php?tid=3540232&page=e&fpage=1#a\n",
      "https://cl.egccf.com/htm_data/8/1905/3540226.html\n",
      "https://cl.egccf.com/htm_data/8/1905/3540226.html\n",
      "https://cl.egccf.com/show.php?uid=524046\n",
      "https://cl.egccf.com/read.php?tid=3540226&page=e&fpage=1#a\n",
      "https://cl.egccf.com/htm_data/8/1905/3540212.html\n",
      "https://cl.egccf.com/htm_data/8/1905/3540212.html\n",
      "https://cl.egccf.com/show.php?uid=387478\n",
      "https://cl.egccf.com/read.php?tid=3540212&page=e&fpage=1#a\n",
      "https://cl.egccf.com/htm_data/8/1905/3540203.html\n",
      "https://cl.egccf.com/htm_data/8/1905/3540203.html\n",
      "https://cl.egccf.com/show.php?uid=524046\n",
      "https://cl.egccf.com/read.php?tid=3540203&page=e&fpage=1#a\n",
      "https://cl.egccf.com/htm_data/8/1905/3540178.html\n",
      "https://cl.egccf.com/htm_data/8/1905/3540178.html\n",
      "https://cl.egccf.com/show.php?uid=387478\n",
      "https://cl.egccf.com/read.php?tid=3540178&page=e&fpage=1#a\n",
      "https://cl.egccf.com/htm_data/8/1905/3540166.html\n",
      "https://cl.egccf.com/htm_data/8/1905/3540166.html\n",
      "https://cl.egccf.com/show.php?uid=387478\n",
      "https://cl.egccf.com/read.php?tid=3540166&page=e&fpage=1#a\n",
      "https://cl.egccf.com/htm_data/8/1905/3540155.html\n",
      "https://cl.egccf.com/htm_data/8/1905/3540155.html\n",
      "https://cl.egccf.com/show.php?uid=503434\n",
      "https://cl.egccf.com/read.php?tid=3540155&page=e&fpage=1#a\n",
      "https://cl.egccf.com/htm_data/8/1905/3540143.html\n",
      "https://cl.egccf.com/htm_data/8/1905/3540143.html\n",
      "https://cl.egccf.com/show.php?uid=523921\n",
      "https://cl.egccf.com/read.php?tid=3540143&page=e&fpage=1#a\n",
      "https://cl.egccf.com/htm_data/8/1905/3540136.html\n",
      "https://cl.egccf.com/htm_data/8/1905/3540136.html\n",
      "https://cl.egccf.com/show.php?uid=520329\n",
      "https://cl.egccf.com/read.php?tid=3540136&page=e&fpage=1#a\n",
      "https://cl.egccf.com/htm_data/8/1905/3540132.html\n",
      "https://cl.egccf.com/htm_data/8/1905/3540132.html\n",
      "https://cl.egccf.com/show.php?uid=523921\n",
      "https://cl.egccf.com/read.php?tid=3540132&page=e&fpage=1#a\n",
      "https://cl.egccf.com/htm_data/8/1905/3540121.html\n",
      "https://cl.egccf.com/htm_data/8/1905/3540121.html\n",
      "https://cl.egccf.com/show.php?uid=503434\n",
      "https://cl.egccf.com/read.php?tid=3540121&page=e&fpage=1#a\n",
      "https://cl.egccf.com/htm_data/8/1905/3540119.html\n",
      "https://cl.egccf.com/htm_data/8/1905/3540119.html\n",
      "https://cl.egccf.com/show.php?uid=503434\n",
      "https://cl.egccf.com/read.php?tid=3540119&page=e&fpage=1#a\n",
      "https://cl.egccf.com/htm_data/8/1905/3540102.html\n",
      "https://cl.egccf.com/htm_data/8/1905/3540102.html\n",
      "https://cl.egccf.com/show.php?uid=520329\n",
      "https://cl.egccf.com/read.php?tid=3540102&page=e&fpage=1#a\n",
      "https://cl.egccf.com/htm_data/8/1905/3539997.html\n",
      "https://cl.egccf.com/htm_data/8/1905/3539997.html\n",
      "https://cl.egccf.com/show.php?uid=377126\n",
      "https://cl.egccf.com/read.php?tid=3539997&page=e&fpage=1#a\n",
      "https://cl.egccf.com/htm_data/8/1905/3539983.html\n",
      "https://cl.egccf.com/htm_data/8/1905/3539983.html\n",
      "https://cl.egccf.com/show.php?uid=377126\n",
      "https://cl.egccf.com/read.php?tid=3539983&page=e&fpage=1#a\n",
      "https://cl.egccf.com/htm_data/8/1905/3539949.html\n",
      "https://cl.egccf.com/htm_data/8/1905/3539949.html\n",
      "https://cl.egccf.com/show.php?uid=526091\n",
      "https://cl.egccf.com/read.php?tid=3539949&page=e&fpage=1#a\n",
      "https://cl.egccf.com/htm_data/8/1905/3539944.html\n",
      "https://cl.egccf.com/htm_data/8/1905/3539944.html\n",
      "https://cl.egccf.com/show.php?uid=526091\n",
      "https://cl.egccf.com/read.php?tid=3539944&page=e&fpage=1#a\n",
      "https://cl.egccf.com/htm_data/8/1905/3539940.html\n",
      "https://cl.egccf.com/htm_data/8/1905/3539940.html\n",
      "https://cl.egccf.com/show.php?uid=454755\n",
      "https://cl.egccf.com/read.php?tid=3539940&page=e&fpage=1#a\n",
      "https://cl.egccf.com/htm_data/8/1905/3539850.html\n",
      "https://cl.egccf.com/htm_data/8/1905/3539850.html\n",
      "https://cl.egccf.com/show.php?uid=454755\n",
      "https://cl.egccf.com/read.php?tid=3539850&page=e&fpage=1#a\n",
      "https://cl.egccf.com/htm_data/8/1905/3539810.html\n",
      "https://cl.egccf.com/htm_data/8/1905/3539810.html\n",
      "https://cl.egccf.com/show.php?uid=526938\n",
      "https://cl.egccf.com/read.php?tid=3539810&page=e&fpage=1#a\n",
      "https://cl.egccf.com/htm_data/8/1905/3539805.html\n",
      "https://cl.egccf.com/htm_data/8/1905/3539805.html\n",
      "https://cl.egccf.com/show.php?uid=463158\n",
      "https://cl.egccf.com/read.php?tid=3539805&page=e&fpage=1#a\n",
      "https://cl.egccf.com/htm_data/8/1905/3539789.html\n",
      "https://cl.egccf.com/htm_data/8/1905/3539789.html\n",
      "https://cl.egccf.com/show.php?uid=527541\n",
      "https://cl.egccf.com/read.php?tid=3539789&page=e&fpage=1#a\n",
      "https://cl.egccf.com/htm_data/8/1905/3539777.html\n",
      "https://cl.egccf.com/htm_data/8/1905/3539777.html\n",
      "https://cl.egccf.com/show.php?uid=463158\n",
      "https://cl.egccf.com/read.php?tid=3539777&page=e&fpage=1#a\n",
      "https://cl.egccf.com/htm_data/8/1905/3539768.html\n",
      "https://cl.egccf.com/htm_data/8/1905/3539768.html\n",
      "https://cl.egccf.com/show.php?uid=527246\n",
      "https://cl.egccf.com/read.php?tid=3539768&page=e&fpage=1#a\n",
      "https://cl.egccf.com/htm_data/8/1905/3539763.html\n",
      "https://cl.egccf.com/htm_data/8/1905/3539763.html\n",
      "https://cl.egccf.com/show.php?uid=463158\n",
      "https://cl.egccf.com/read.php?tid=3539763&page=e&fpage=1#a\n",
      "https://cl.egccf.com/htm_data/8/1905/3539760.html\n",
      "https://cl.egccf.com/htm_data/8/1905/3539760.html\n",
      "https://cl.egccf.com/show.php?uid=526676\n",
      "https://cl.egccf.com/read.php?tid=3539760&page=e&fpage=1#a\n",
      "https://cl.egccf.com/htm_data/8/1905/3539699.html\n",
      "https://cl.egccf.com/htm_data/8/1905/3539699.html\n",
      "https://cl.egccf.com/read.php?tid=3539699&page=1&fpage=1\n",
      "https://cl.egccf.com/read.php?tid=3539699&page=2&fpage=1\n",
      "https://cl.egccf.com/show.php?uid=527044\n",
      "https://cl.egccf.com/read.php?tid=3539699&page=e&fpage=1#a\n",
      "https://cl.egccf.com/htm_data/8/1905/3539685.html\n",
      "https://cl.egccf.com/htm_data/8/1905/3539685.html\n",
      "https://cl.egccf.com/show.php?uid=531311\n",
      "https://cl.egccf.com/read.php?tid=3539685&page=e&fpage=1#a\n",
      "https://cl.egccf.com/htm_data/8/1905/3539680.html\n",
      "https://cl.egccf.com/htm_data/8/1905/3539680.html\n",
      "https://cl.egccf.com/show.php?uid=527246\n",
      "https://cl.egccf.com/read.php?tid=3539680&page=e&fpage=1#a\n",
      "https://cl.egccf.com/htm_data/8/1905/3539678.html\n",
      "https://cl.egccf.com/htm_data/8/1905/3539678.html\n",
      "https://cl.egccf.com/show.php?uid=526938\n",
      "https://cl.egccf.com/read.php?tid=3539678&page=e&fpage=1#a\n",
      "https://cl.egccf.com/htm_data/8/1905/3539677.html\n",
      "https://cl.egccf.com/htm_data/8/1905/3539677.html\n",
      "https://cl.egccf.com/show.php?uid=387478\n",
      "https://cl.egccf.com/read.php?tid=3539677&page=e&fpage=1#a\n",
      "https://cl.egccf.com/htm_data/8/1905/3539676.html\n",
      "https://cl.egccf.com/htm_data/8/1905/3539676.html\n",
      "https://cl.egccf.com/show.php?uid=527044\n",
      "https://cl.egccf.com/read.php?tid=3539676&page=e&fpage=1#a\n",
      "https://cl.egccf.com/htm_data/8/1905/3539675.html\n",
      "https://cl.egccf.com/htm_data/8/1905/3539675.html\n",
      "https://cl.egccf.com/show.php?uid=387478\n",
      "https://cl.egccf.com/read.php?tid=3539675&page=e&fpage=1#a\n",
      "https://cl.egccf.com/htm_data/8/1905/3539671.html\n",
      "https://cl.egccf.com/htm_data/8/1905/3539671.html\n",
      "https://cl.egccf.com/show.php?uid=518220\n",
      "https://cl.egccf.com/read.php?tid=3539671&page=e&fpage=1#a\n",
      "https://cl.egccf.com/htm_data/8/1905/3539668.html\n",
      "https://cl.egccf.com/htm_data/8/1905/3539668.html\n",
      "https://cl.egccf.com/show.php?uid=531311\n",
      "https://cl.egccf.com/read.php?tid=3539668&page=e&fpage=1#a\n",
      "https://cl.egccf.com/htm_data/8/1905/3539666.html\n",
      "https://cl.egccf.com/htm_data/8/1905/3539666.html\n",
      "https://cl.egccf.com/show.php?uid=527044\n",
      "https://cl.egccf.com/read.php?tid=3539666&page=e&fpage=1#a\n",
      "https://cl.egccf.com/htm_data/8/1905/3539661.html\n",
      "https://cl.egccf.com/htm_data/8/1905/3539661.html\n",
      "https://cl.egccf.com/show.php?uid=527449\n",
      "https://cl.egccf.com/read.php?tid=3539661&page=e&fpage=1#a\n",
      "https://cl.egccf.com/htm_data/8/1905/3539650.html\n",
      "https://cl.egccf.com/htm_data/8/1905/3539650.html\n",
      "https://cl.egccf.com/show.php?uid=527541\n",
      "https://cl.egccf.com/read.php?tid=3539650&page=e&fpage=1#a\n",
      "https://cl.egccf.com/htm_data/8/1905/3539588.html\n",
      "https://cl.egccf.com/htm_data/8/1905/3539588.html\n",
      "https://cl.egccf.com/show.php?uid=454755\n",
      "https://cl.egccf.com/read.php?tid=3539588&page=e&fpage=1#a\n",
      "https://cl.egccf.com/htm_data/8/1905/3539548.html\n",
      "https://cl.egccf.com/htm_data/8/1905/3539548.html\n",
      "https://cl.egccf.com/show.php?uid=526676\n",
      "https://cl.egccf.com/read.php?tid=3539548&page=e&fpage=1#a\n",
      "https://cl.egccf.com/htm_data/8/1905/3539537.html\n",
      "https://cl.egccf.com/htm_data/8/1905/3539537.html\n",
      "https://cl.egccf.com/show.php?uid=527541\n",
      "https://cl.egccf.com/read.php?tid=3539537&page=e&fpage=1#a\n",
      "https://cl.egccf.com/htm_data/8/1905/3539486.html\n",
      "https://cl.egccf.com/htm_data/8/1905/3539486.html\n",
      "https://cl.egccf.com/show.php?uid=527449\n",
      "https://cl.egccf.com/read.php?tid=3539486&page=e&fpage=1#a\n",
      "https://cl.egccf.com/htm_data/8/1905/3539482.html\n",
      "https://cl.egccf.com/htm_data/8/1905/3539482.html\n",
      "https://cl.egccf.com/show.php?uid=527246\n",
      "https://cl.egccf.com/read.php?tid=3539482&page=e&fpage=1#a\n",
      "https://cl.egccf.com/htm_data/8/1905/3539475.html\n",
      "https://cl.egccf.com/htm_data/8/1905/3539475.html\n",
      "https://cl.egccf.com/show.php?uid=529085\n",
      "https://cl.egccf.com/read.php?tid=3539475&page=e&fpage=1#a\n",
      "https://cl.egccf.com/htm_data/8/1905/3539442.html\n",
      "https://cl.egccf.com/htm_data/8/1905/3539442.html\n",
      "https://cl.egccf.com/show.php?uid=531311\n",
      "https://cl.egccf.com/read.php?tid=3539442&page=e&fpage=1#a\n",
      "https://cl.egccf.com/htm_data/8/1905/3539422.html\n",
      "https://cl.egccf.com/htm_data/8/1905/3539422.html\n",
      "https://cl.egccf.com/show.php?uid=526148\n",
      "https://cl.egccf.com/read.php?tid=3539422&page=e&fpage=1#a\n",
      "https://cl.egccf.com/htm_data/8/1905/3539420.html\n",
      "https://cl.egccf.com/htm_data/8/1905/3539420.html\n",
      "https://cl.egccf.com/show.php?uid=529251\n",
      "https://cl.egccf.com/read.php?tid=3539420&page=e&fpage=1#a\n",
      "https://cl.egccf.com/htm_data/8/1905/3539415.html\n",
      "https://cl.egccf.com/htm_data/8/1905/3539415.html\n",
      "https://cl.egccf.com/show.php?uid=387478\n",
      "https://cl.egccf.com/read.php?tid=3539415&page=e&fpage=1#a\n",
      "https://cl.egccf.com/htm_data/8/1905/3539397.html\n",
      "https://cl.egccf.com/htm_data/8/1905/3539397.html\n",
      "https://cl.egccf.com/show.php?uid=529221\n",
      "https://cl.egccf.com/read.php?tid=3539397&page=e&fpage=1#a\n",
      "https://cl.egccf.com/htm_data/8/1905/3539395.html\n",
      "https://cl.egccf.com/htm_data/8/1905/3539395.html\n",
      "https://cl.egccf.com/show.php?uid=526148\n",
      "https://cl.egccf.com/read.php?tid=3539395&page=e&fpage=1#a\n",
      "https://cl.egccf.com/htm_data/8/1905/3539389.html\n",
      "https://cl.egccf.com/htm_data/8/1905/3539389.html\n",
      "https://cl.egccf.com/show.php?uid=518992\n",
      "https://cl.egccf.com/read.php?tid=3539389&page=e&fpage=1#a\n",
      "https://cl.egccf.com/htm_data/8/1905/3539369.html\n",
      "https://cl.egccf.com/htm_data/8/1905/3539369.html\n",
      "https://cl.egccf.com/show.php?uid=6445\n",
      "https://cl.egccf.com/read.php?tid=3539369&page=e&fpage=1#a\n",
      "https://cl.egccf.com/htm_data/8/1905/3539320.html\n",
      "https://cl.egccf.com/htm_data/8/1905/3539320.html\n",
      "https://cl.egccf.com/show.php?uid=529221\n",
      "https://cl.egccf.com/read.php?tid=3539320&page=e&fpage=1#a\n",
      "https://cl.egccf.com/htm_data/8/1905/3539318.html\n",
      "https://cl.egccf.com/htm_data/8/1905/3539318.html\n",
      "https://cl.egccf.com/show.php?uid=513275\n",
      "https://cl.egccf.com/read.php?tid=3539318&page=e&fpage=1#a\n",
      "https://cl.egccf.com/htm_data/8/1905/3539298.html\n",
      "https://cl.egccf.com/htm_data/8/1905/3539298.html\n",
      "https://cl.egccf.com/show.php?uid=518992\n",
      "https://cl.egccf.com/read.php?tid=3539298&page=e&fpage=1#a\n",
      "https://cl.egccf.com/htm_data/8/1905/3539265.html\n",
      "https://cl.egccf.com/htm_data/8/1905/3539265.html\n",
      "https://cl.egccf.com/show.php?uid=520329\n",
      "https://cl.egccf.com/read.php?tid=3539265&page=e&fpage=1#a\n",
      "https://cl.egccf.com/htm_data/8/1905/3539251.html\n",
      "https://cl.egccf.com/htm_data/8/1905/3539251.html\n",
      "https://cl.egccf.com/show.php?uid=526148\n",
      "https://cl.egccf.com/read.php?tid=3539251&page=e&fpage=1#a\n",
      "https://cl.egccf.com/htm_data/8/1905/3539250.html\n",
      "https://cl.egccf.com/htm_data/8/1905/3539250.html\n",
      "https://cl.egccf.com/show.php?uid=526019\n",
      "https://cl.egccf.com/read.php?tid=3539250&page=e&fpage=1#a\n",
      "https://cl.egccf.com/htm_data/8/1905/3539244.html\n",
      "https://cl.egccf.com/htm_data/8/1905/3539244.html\n",
      "https://cl.egccf.com/show.php?uid=513275\n",
      "https://cl.egccf.com/read.php?tid=3539244&page=e&fpage=1#a\n",
      "https://cl.egccf.com/htm_data/8/1905/3539240.html\n",
      "https://cl.egccf.com/htm_data/8/1905/3539240.html\n",
      "https://cl.egccf.com/show.php?uid=513275\n",
      "https://cl.egccf.com/read.php?tid=3539240&page=e&fpage=1#a\n",
      "https://cl.egccf.com/htm_data/8/1905/3539239.html\n",
      "https://cl.egccf.com/htm_data/8/1905/3539239.html\n",
      "https://cl.egccf.com/show.php?uid=526938\n",
      "https://cl.egccf.com/read.php?tid=3539239&page=e&fpage=1#a\n",
      "https://cl.egccf.com/htm_data/8/1905/3539233.html\n",
      "https://cl.egccf.com/htm_data/8/1905/3539233.html\n",
      "https://cl.egccf.com/show.php?uid=520329\n",
      "https://cl.egccf.com/read.php?tid=3539233&page=e&fpage=1#a\n",
      "javascript:#\n",
      "javascript:#\n",
      "https://cl.egccf.com/thread0806.php?fid=8\n",
      "https://cl.egccf.com/thread0806.php?fid=8&search=&page=2\n",
      "https://cl.egccf.com/thread0806.php?fid=8&search=&page=3\n",
      "https://cl.egccf.com/thread0806.php?fid=8&search=&page=4\n",
      "https://cl.egccf.com/thread0806.php?fid=8\n",
      "https://cl.egccf.com/thread0806.php?fid=8&search=&page=2\n",
      "https://cl.egccf.com/thread0806.php?fid=8&search=&page=88\n",
      "https://cl.egccf.com/profile.php?action=forumright&fid=8\n",
      "https://cl.egccf.com/mobile.php?ismobile=no\n",
      "https://cl.egccf.com/mobile.php?ismobile=yes\n",
      "https://cl.egccf.com/read.php?tid=1648542\n"
     ]
    }
   ],
   "source": [
    "for i in result_first:\n",
    "    print(i)"
   ]
  },
  {
   "cell_type": "code",
   "execution_count": null,
   "metadata": {},
   "outputs": [
    {
     "name": "stdout",
     "output_type": "stream",
     "text": [
      "https://cl.egccf.com/\n",
      "https://cl.egccf.com/login.php\n",
      "https://cl.egccf.com/register.php\n",
      "https://cl.egccf.com/search.php\n",
      "https://cl.egccf.com/thread0806.php?fid=8\n",
      "https://cl.egccf.com/hack.php?H_name=bank\n",
      "https://cl.egccf.com/hack.php?H_name=invite\n",
      "https://cl.egccf.com/faq.php\n",
      "https://cl.egccf.com/index.php\n",
      "https://cl.egccf.com/thread0806.php?fid=8\n",
      "https://cl.egccf.com/rss.php?fid=8\n",
      "https://cl.egccf.com/notice.php?fid=8#20\n",
      "javascript:#\n",
      "javascript:#\n",
      "https://cl.egccf.com/thread0806.php?fid=8\n",
      "https://cl.egccf.com/thread0806.php?fid=8&search=&page=2\n",
      "https://cl.egccf.com/thread0806.php?fid=8&search=&page=3\n",
      "https://cl.egccf.com/thread0806.php?fid=8&search=&page=4\n",
      "https://cl.egccf.com/thread0806.php?fid=8\n",
      "https://cl.egccf.com/thread0806.php?fid=8&search=&page=2\n",
      "https://cl.egccf.com/thread0806.php?fid=8&search=&page=88\n",
      "https://cl.egccf.com/post.php?fid=8\n",
      "https://cl.egccf.com/post.php?fid=8&special=1\n",
      "https://cl.egccf.com/thread0806.php?fid=8\n",
      "https://cl.egccf.com/thread0806.php?fid=8&search=today\n",
      "https://cl.egccf.com/thread0806.php?fid=8&search=digest\n",
      "https://cl.egccf.com/thread0806.php?fid=8&type=1\n",
      "https://cl.egccf.com/thread0806.php?fid=8&type=2\n",
      "https://cl.egccf.com/thread0806.php?fid=8&type=3\n",
      "https://cl.egccf.com/thread0806.php?fid=8&type=4\n",
      "https://cl.egccf.com/thread0806.php?fid=8&type=12\n",
      "https://cl.egccf.com/thread0806.php?fid=8\n",
      "https://cl.egccf.com/profile.php?action=show&username=valen\n",
      "https://cl.egccf.com/profile.php?action=show&username=brent\n",
      "https://cl.egccf.com/profile.php?action=show&username=Diss\n",
      "https://cl.egccf.com/notice.php?fid=-1#1\n",
      "https://cl.egccf.com/profile.php?action=show&username=administrator\n",
      "https://cl.egccf.com/notice.php?fid=-1\n",
      "https://cl.egccf.com/read.php?tid=5877\n",
      "https://cl.egccf.com/read.php?tid=5877\n",
      "https://cl.egccf.com/read.php?tid=5877&page=1&fpage=1\n",
      "https://cl.egccf.com/read.php?tid=5877&page=2&fpage=1\n",
      "https://cl.egccf.com/read.php?tid=5877&page=3&fpage=1\n",
      "https://cl.egccf.com/read.php?tid=5877&page=4&fpage=1\n",
      "https://cl.egccf.com/read.php?tid=5877&page=5&fpage=1\n",
      "https://cl.egccf.com/read.php?tid=5877&page=719&fpage=1\n",
      "https://cl.egccf.com/show.php?uid=62\n",
      "https://cl.egccf.com/read.php?tid=5877&page=e&fpage=1#a\n",
      "https://cl.egccf.com/htm_data/8/1109/594739.html\n",
      "https://cl.egccf.com/htm_data/8/1109/594739.html\n",
      "https://cl.egccf.com/read.php?tid=594739&page=1&fpage=1\n",
      "https://cl.egccf.com/read.php?tid=594739&page=2&fpage=1\n",
      "https://cl.egccf.com/read.php?tid=594739&page=3&fpage=1\n",
      "https://cl.egccf.com/read.php?tid=594739&page=4&fpage=1\n",
      "https://cl.egccf.com/read.php?tid=594739&page=5&fpage=1\n",
      "https://cl.egccf.com/read.php?tid=594739&page=19&fpage=1\n",
      "https://cl.egccf.com/show.php?uid=69760\n",
      "https://cl.egccf.com/read.php?tid=594739&page=e&fpage=1#a\n",
      "https://cl.egccf.com/htm_data/8/1803/3018643.html\n",
      "https://cl.egccf.com/htm_data/8/1803/3018643.html\n",
      "https://cl.egccf.com/read.php?tid=3018643&page=1&fpage=1\n",
      "https://cl.egccf.com/read.php?tid=3018643&page=2&fpage=1\n",
      "https://cl.egccf.com/read.php?tid=3018643&page=3&fpage=1\n",
      "https://cl.egccf.com/read.php?tid=3018643&page=4&fpage=1\n"
     ]
    }
   ],
   "source": [
    "result_pic_url = []\n",
    "for i in result_first:\n",
    "    try:\n",
    "        print(i)\n",
    "        res_second = requests.get(i)\n",
    "        soup_second = BeautifulSoup(res_second.text, 'html.parser', from_encoding='gbk')\n",
    "        tags_a_second = soup.find_all('input')\n",
    "        for i in tags_a_second:\n",
    "            result_first.append(i.get(\"data-link\", None))\n",
    "            result_first.append(i.get(\"data-src\", None))\n",
    "            \n",
    "    except:\n",
    "        pass"
   ]
  },
  {
   "cell_type": "code",
   "execution_count": null,
   "metadata": {},
   "outputs": [],
   "source": [
    "print(result_pic_url)"
   ]
  },
  {
   "cell_type": "code",
   "execution_count": null,
   "metadata": {},
   "outputs": [],
   "source": []
  },
  {
   "cell_type": "code",
   "execution_count": null,
   "metadata": {},
   "outputs": [],
   "source": []
  },
  {
   "cell_type": "code",
   "execution_count": null,
   "metadata": {},
   "outputs": [],
   "source": []
  },
  {
   "cell_type": "code",
   "execution_count": null,
   "metadata": {},
   "outputs": [],
   "source": []
  },
  {
   "cell_type": "code",
   "execution_count": null,
   "metadata": {},
   "outputs": [],
   "source": []
  },
  {
   "cell_type": "code",
   "execution_count": null,
   "metadata": {},
   "outputs": [],
   "source": []
  },
  {
   "cell_type": "code",
   "execution_count": null,
   "metadata": {},
   "outputs": [],
   "source": []
  },
  {
   "cell_type": "code",
   "execution_count": null,
   "metadata": {},
   "outputs": [],
   "source": []
  },
  {
   "cell_type": "code",
   "execution_count": null,
   "metadata": {},
   "outputs": [],
   "source": []
  },
  {
   "cell_type": "code",
   "execution_count": null,
   "metadata": {},
   "outputs": [],
   "source": []
  },
  {
   "cell_type": "code",
   "execution_count": null,
   "metadata": {},
   "outputs": [],
   "source": []
  },
  {
   "cell_type": "code",
   "execution_count": null,
   "metadata": {},
   "outputs": [],
   "source": []
  },
  {
   "cell_type": "code",
   "execution_count": null,
   "metadata": {},
   "outputs": [],
   "source": []
  },
  {
   "cell_type": "code",
   "execution_count": null,
   "metadata": {},
   "outputs": [],
   "source": []
  },
  {
   "cell_type": "code",
   "execution_count": null,
   "metadata": {},
   "outputs": [],
   "source": []
  },
  {
   "cell_type": "code",
   "execution_count": null,
   "metadata": {},
   "outputs": [],
   "source": []
  },
  {
   "cell_type": "code",
   "execution_count": null,
   "metadata": {},
   "outputs": [],
   "source": []
  },
  {
   "cell_type": "code",
   "execution_count": null,
   "metadata": {},
   "outputs": [],
   "source": []
  },
  {
   "cell_type": "code",
   "execution_count": null,
   "metadata": {},
   "outputs": [],
   "source": [
    "\n"
   ]
  },
  {
   "cell_type": "code",
   "execution_count": null,
   "metadata": {},
   "outputs": [],
   "source": []
  },
  {
   "cell_type": "code",
   "execution_count": null,
   "metadata": {},
   "outputs": [],
   "source": [
    "\n"
   ]
  },
  {
   "cell_type": "code",
   "execution_count": null,
   "metadata": {},
   "outputs": [],
   "source": []
  },
  {
   "cell_type": "code",
   "execution_count": null,
   "metadata": {},
   "outputs": [],
   "source": []
  }
 ],
 "metadata": {
  "kernelspec": {
   "display_name": "Python 3",
   "language": "python",
   "name": "python3"
  },
  "language_info": {
   "codemirror_mode": {
    "name": "ipython",
    "version": 3
   },
   "file_extension": ".py",
   "mimetype": "text/x-python",
   "name": "python",
   "nbconvert_exporter": "python",
   "pygments_lexer": "ipython3",
   "version": "3.6.7"
  }
 },
 "nbformat": 4,
 "nbformat_minor": 2
}
