{
 "cells": [
  {
   "cell_type": "markdown",
   "metadata": {},
   "source": [
    "# 一、 日期转换"
   ]
  },
  {
   "cell_type": "markdown",
   "metadata": {},
   "source": [
    "## 1.1 一个月之前的时间"
   ]
  },
  {
   "cell_type": "code",
   "execution_count": 67,
   "metadata": {},
   "outputs": [
    {
     "name": "stdout",
     "output_type": "stream",
     "text": [
      "2019-09-20 13:54:14.643872\n",
      "<class 'str'>\n",
      "2019-08-21T13:54:14.644516\n"
     ]
    }
   ],
   "source": [
    "# 方法一\n",
    "import datetime\n",
    "now = datetime.datetime.now()\n",
    "print(now)\n",
    "then = (now - datetime.timedelta(days=30)).isoformat()\n",
    "print(type(then))\n",
    "from datetime import datetime\n",
    "print((datetime.now() - timedelta(days=30)).isoformat())\n",
    "\n",
    "\n",
    "# 方法二\n",
    "import datetime\n",
    "from dateutil import relativedelta\n",
    "\n",
    "now = datetime.datetime.now()\n",
    "print(now)\n",
    "print(now + relativedelta.relativedelta(months=-1))"
   ]
  },
  {
   "cell_type": "markdown",
   "metadata": {},
   "source": [
    "## 1.2 获取当天凌晨的时间戳"
   ]
  },
  {
   "cell_type": "code",
   "execution_count": 52,
   "metadata": {},
   "outputs": [
    {
     "name": "stdout",
     "output_type": "stream",
     "text": [
      "1568908800.0\n"
     ]
    }
   ],
   "source": [
    "import time\n",
    "import datetime\n",
    "\n",
    "d = time.mktime(datetime.datetime.now().date().timetuple())\n",
    "print(d)"
   ]
  },
  {
   "cell_type": "markdown",
   "metadata": {},
   "source": [
    "## 1.3 时间加减"
   ]
  },
  {
   "cell_type": "code",
   "execution_count": 53,
   "metadata": {},
   "outputs": [
    {
     "name": "stdout",
     "output_type": "stream",
     "text": [
      "2019-09-20 11:30:53.210175\n"
     ]
    }
   ],
   "source": [
    "import datetime\n",
    "from datetime import timedelta\n",
    "\n",
    "print(datetime.datetime.now() + timedelta(days=0, seconds=0, minutes=0, hours=0, weeks=0))"
   ]
  },
  {
   "cell_type": "markdown",
   "metadata": {},
   "source": [
    "## 1.4 时间戳 `->` 转日期(`datetime格式`)"
   ]
  },
  {
   "cell_type": "code",
   "execution_count": 2,
   "metadata": {},
   "outputs": [
    {
     "name": "stdout",
     "output_type": "stream",
     "text": [
      "2019-09-25 01:58:41.559848\n",
      "2019-09-25 09:58:41.559848\n"
     ]
    }
   ],
   "source": [
    "import datetime\n",
    "import time\n",
    "\n",
    "now_timestamp = time.time()\n",
    "a = datetime.datetime.utcfromtimestamp(now_timestamp)   # UTC日期, 亚洲时间比UTC快8个小时\n",
    "b = datetime.datetime.fromtimestamp(now_timestamp)\n",
    "\n",
    "print(a)\n",
    "print(b)"
   ]
  },
  {
   "cell_type": "markdown",
   "metadata": {},
   "source": [
    "## 1.5 时间戳 `->` 格林尼治时间格式(`datetime格式`)"
   ]
  },
  {
   "cell_type": "code",
   "execution_count": 55,
   "metadata": {},
   "outputs": [
    {
     "name": "stdout",
     "output_type": "stream",
     "text": [
      "2019-09-20T03:30:53.312225\n"
     ]
    }
   ],
   "source": [
    "import datetime\n",
    "\n",
    "now_timestamp = time.time()\n",
    "b = datetime.datetime.utcfromtimestamp(now_timestamp).isoformat()\n",
    "print(b)"
   ]
  },
  {
   "cell_type": "markdown",
   "metadata": {},
   "source": [
    "## 1.6 `datetime -> 时间戳`"
   ]
  },
  {
   "cell_type": "code",
   "execution_count": 56,
   "metadata": {},
   "outputs": [
    {
     "name": "stdout",
     "output_type": "stream",
     "text": [
      "当前日期:2019-09-20 11:30:53.373611\n",
      "当前日期对应的时间戳:1568950253.0\n"
     ]
    }
   ],
   "source": [
    "import datetime\n",
    "import time\n",
    "\n",
    "d_time = datetime.datetime.now()\n",
    "ans_time = time.mktime(d_time.timetuple())\n",
    "print(f\"当前日期:{d_time}\")\n",
    "print(f\"当前日期对应的时间戳:{ans_time}\")"
   ]
  },
  {
   "cell_type": "markdown",
   "metadata": {},
   "source": [
    "\n",
    "## 1.7 字符串`str -> datetime`"
   ]
  },
  {
   "cell_type": "code",
   "execution_count": 57,
   "metadata": {},
   "outputs": [
    {
     "name": "stdout",
     "output_type": "stream",
     "text": [
      "原字符串str_date: 2015-6-1 18:19:59\n",
      "原字符串str_date类型: <class 'str'>\n",
      "\n",
      "转换后date: 2015-06-01 18:19:59\n",
      "转换后date类型: <class 'datetime.datetime'>\n"
     ]
    }
   ],
   "source": [
    "import time\n",
    "from datetime import datetime\n",
    "\n",
    "str_date = '2015-6-1 18:19:59'\n",
    "date = datetime.strptime(str_date, '%Y-%m-%d %H:%M:%S')\n",
    "\n",
    "print(f\"原字符串str_date: {str_date}\")\n",
    "print(f\"原字符串str_date类型: {type(str_date)}\\n\")\n",
    "print(f\"转换后date: {date}\")\n",
    "print(f\"转换后date类型: {type(date)}\")"
   ]
  },
  {
   "cell_type": "markdown",
   "metadata": {},
   "source": [
    "\n",
    "## 1.8 `datetime -> str`\n"
   ]
  },
  {
   "cell_type": "code",
   "execution_count": 58,
   "metadata": {},
   "outputs": [
    {
     "name": "stdout",
     "output_type": "stream",
     "text": [
      "Fri, Sep 20 11:30:53\n",
      "2019-09-20 11:30:53\n"
     ]
    }
   ],
   "source": [
    "import datetime\n",
    "\n",
    "print(datetime.datetime.now().strftime('%a, %b %d %H:%M:%S'))\n",
    "print(datetime.datetime.now().strftime('%Y-%m-%d %H:%M:%S'))"
   ]
  },
  {
   "cell_type": "code",
   "execution_count": 69,
   "metadata": {},
   "outputs": [
    {
     "name": "stdout",
     "output_type": "stream",
     "text": [
      "0\n"
     ]
    }
   ],
   "source": [
    "a = 1\n",
    "a ^= 2\n",
    "a ^= 3\n",
    "print(a)"
   ]
  },
  {
   "cell_type": "markdown",
   "metadata": {},
   "source": [
    "## 1.9 一个月前的时间"
   ]
  },
  {
   "cell_type": "code",
   "execution_count": 3,
   "metadata": {},
   "outputs": [
    {
     "name": "stdout",
     "output_type": "stream",
     "text": [
      "2019-09-23 14:32:17.084168\n",
      "2019-08-23 14:32:17.084168\n"
     ]
    }
   ],
   "source": [
    "import datetime\n",
    "from dateutil import relativedelta\n",
    "\n",
    "now = datetime.datetime.now()\n",
    "print(now)\n",
    "print(now + relativedelta.relativedelta(months=-1))"
   ]
  },
  {
   "cell_type": "code",
   "execution_count": 7,
   "metadata": {},
   "outputs": [
    {
     "data": {
      "text/plain": [
       "[6, 7, 8]"
      ]
     },
     "execution_count": 7,
     "metadata": {},
     "output_type": "execute_result"
    }
   ],
   "source": [
    "data = [4, 5, 6, 7, 8, 9]\n",
    "data[2:-1]"
   ]
  },
  {
   "cell_type": "markdown",
   "metadata": {},
   "source": [
    "## JSON 和对象双向数据绑定工具 jsonalize"
   ]
  },
  {
   "cell_type": "markdown",
   "metadata": {},
   "source": [
    "`jsonalize`，一个 `Python` 下的 `JSON` 和对象双向数据绑定工具，支持将 `Python` 自定义类对象和 `JSON` 之间的相互转换。\n",
    "受支持的 `JSON` 类型："
   ]
  },
  {
   "cell_type": "markdown",
   "metadata": {},
   "source": [
    "- JSONInt\n",
    "- JSONLong (Only in Python 2)\n",
    "- JSONFloat\n",
    "- JSONComplex\n",
    "- JSONBool\n",
    "- JSONString\n",
    "- JSONList\n",
    "- JSONSet\n",
    "- JSONDict\n",
    "- JSONObject"
   ]
  },
  {
   "cell_type": "markdown",
   "metadata": {},
   "source": [
    "下面是一个使用 `jsonalize` 的简单示例："
   ]
  },
  {
   "cell_type": "code",
   "execution_count": 5,
   "metadata": {
    "scrolled": true
   },
   "outputs": [
    {
     "ename": "NameError",
     "evalue": "name 'JSONObject' is not defined",
     "output_type": "error",
     "traceback": [
      "\u001b[0;31m---------------------------------------------------------------------------\u001b[0m",
      "\u001b[0;31mNameError\u001b[0m                                 Traceback (most recent call last)",
      "\u001b[0;32m<ipython-input-5-980543c4cf65>\u001b[0m in \u001b[0;36m<module>\u001b[0;34m\u001b[0m\n\u001b[1;32m      3\u001b[0m \u001b[0;34m\u001b[0m\u001b[0m\n\u001b[1;32m      4\u001b[0m \u001b[0;31m# Define a class\u001b[0m\u001b[0;34m\u001b[0m\u001b[0;34m\u001b[0m\u001b[0;34m\u001b[0m\u001b[0m\n\u001b[0;32m----> 5\u001b[0;31m \u001b[0;32mclass\u001b[0m \u001b[0mMyData\u001b[0m\u001b[0;34m(\u001b[0m\u001b[0mJSONObject\u001b[0m\u001b[0;34m)\u001b[0m\u001b[0;34m:\u001b[0m\u001b[0;34m\u001b[0m\u001b[0;34m\u001b[0m\u001b[0m\n\u001b[0m\u001b[1;32m      6\u001b[0m     \u001b[0;32mdef\u001b[0m \u001b[0m__init__\u001b[0m\u001b[0;34m(\u001b[0m\u001b[0mself\u001b[0m\u001b[0;34m)\u001b[0m\u001b[0;34m:\u001b[0m\u001b[0;34m\u001b[0m\u001b[0;34m\u001b[0m\u001b[0m\n\u001b[1;32m      7\u001b[0m         \u001b[0mJSONObject\u001b[0m\u001b[0;34m.\u001b[0m\u001b[0m__init__\u001b[0m\u001b[0;34m(\u001b[0m\u001b[0mself\u001b[0m\u001b[0;34m)\u001b[0m\u001b[0;34m\u001b[0m\u001b[0;34m\u001b[0m\u001b[0m\n",
      "\u001b[0;31mNameError\u001b[0m: name 'JSONObject' is not defined"
     ]
    }
   ],
   "source": [
    "from jsonalize import *\n",
    "\n",
    "\n",
    "# Define a class\n",
    "class MyData(JSONObject):\n",
    "    def __init__(self):\n",
    "        JSONObject.__init__(self)\n",
    "        self.id = JSONString()\n",
    "        self.name = JSONString()\n",
    "        self.age = JSONInt()\n",
    "        self.weight = JSONFloat()\n",
    "        \n",
    "        \n",
    "# Create an object of MyData\n",
    "my = MyData()\n",
    "my.id = \"20190101\"\n",
    "my.name = \"Stanley\"\n",
    "my.age = 28\n",
    "my.weight = 60\n",
    "\n",
    "# jsonalize the object\n",
    "json_str = my.to_json()\n",
    "print(json_str)\n",
    "\n",
    "# restore the object from json\n",
    "my2 = JSONObject.from_json(MyData, json_str)\n",
    "print(my2.to_json())"
   ]
  },
  {
   "cell_type": "markdown",
   "metadata": {},
   "source": [
    "# 进程池"
   ]
  },
  {
   "cell_type": "markdown",
   "metadata": {},
   "source": [
    "## 进程池-非阻塞-回调函数"
   ]
  },
  {
   "cell_type": "code",
   "execution_count": 9,
   "metadata": {},
   "outputs": [
    {
     "name": "stdout",
     "output_type": "stream",
     "text": [
      "hello 0\n",
      "hello 13\n",
      "\n",
      "hello 24\n",
      "\n",
      "hello 35\n",
      "\n",
      "hello 4\n",
      "6\n",
      "7\n"
     ]
    }
   ],
   "source": [
    "# -*- coding: utf-8 -*-\n",
    "from multiprocessing.pool import ThreadPool\n",
    "import time\n",
    "\n",
    "\n",
    "def foo(bar, baz):\n",
    "    print('hello {}'.format(bar))\n",
    "    time.sleep(3)\n",
    "    return baz\n",
    "\n",
    "\n",
    "def handle_recv_data(result):\n",
    "    print(result)\n",
    "\n",
    "\n",
    "pool = ThreadPool(processes=1)\n",
    "\n",
    "for i in range(5):\n",
    "    async_result = pool.apply_async(foo, (i, i + 3), callback=handle_recv_data)  # tuple of args for foo\n",
    "\n",
    "pool.close()\n",
    "pool.join()"
   ]
  },
  {
   "cell_type": "markdown",
   "metadata": {},
   "source": [
    "## 正常多线程"
   ]
  },
  {
   "cell_type": "code",
   "execution_count": 20,
   "metadata": {
    "scrolled": true
   },
   "outputs": [
    {
     "ename": "AttributeError",
     "evalue": "'Thread' object has no attribute 'get_result'",
     "output_type": "error",
     "traceback": [
      "\u001b[0;31m---------------------------------------------------------------------------\u001b[0m",
      "\u001b[0;31mAttributeError\u001b[0m                            Traceback (most recent call last)",
      "\u001b[0;32m<ipython-input-20-856aad6ecc2e>\u001b[0m in \u001b[0;36m<module>\u001b[0;34m\u001b[0m\n\u001b[1;32m     17\u001b[0m \u001b[0;32mfor\u001b[0m \u001b[0mth\u001b[0m \u001b[0;32min\u001b[0m \u001b[0mths\u001b[0m\u001b[0;34m:\u001b[0m\u001b[0;34m\u001b[0m\u001b[0;34m\u001b[0m\u001b[0m\n\u001b[1;32m     18\u001b[0m     \u001b[0mth\u001b[0m\u001b[0;34m.\u001b[0m\u001b[0mjoin\u001b[0m\u001b[0;34m(\u001b[0m\u001b[0;34m)\u001b[0m\u001b[0;34m\u001b[0m\u001b[0;34m\u001b[0m\u001b[0m\n\u001b[0;32m---> 19\u001b[0;31m     \u001b[0mprint\u001b[0m\u001b[0;34m(\u001b[0m\u001b[0mth\u001b[0m\u001b[0;34m.\u001b[0m\u001b[0mget_result\u001b[0m\u001b[0;34m(\u001b[0m\u001b[0;34m)\u001b[0m\u001b[0;34m)\u001b[0m\u001b[0;34m\u001b[0m\u001b[0;34m\u001b[0m\u001b[0m\n\u001b[0m\u001b[1;32m     20\u001b[0m \u001b[0mprint\u001b[0m\u001b[0;34m(\u001b[0m\u001b[0;34m'thread total'\u001b[0m\u001b[0;34m,\u001b[0m \u001b[0mtime\u001b[0m\u001b[0;34m.\u001b[0m\u001b[0mtime\u001b[0m\u001b[0;34m(\u001b[0m\u001b[0;34m)\u001b[0m \u001b[0;34m-\u001b[0m \u001b[0mstart\u001b[0m\u001b[0;34m,\u001b[0m \u001b[0;34m'seconds'\u001b[0m\u001b[0;34m)\u001b[0m\u001b[0;34m\u001b[0m\u001b[0;34m\u001b[0m\u001b[0m\n",
      "\u001b[0;31mAttributeError\u001b[0m: 'Thread' object has no attribute 'get_result'"
     ]
    }
   ],
   "source": [
    "import threading\n",
    "import time\n",
    "\n",
    "start = time.time()\n",
    "\n",
    "def get_title(args):\n",
    "    time.sleep(3)\n",
    "    return args\n",
    "\n",
    "ths = []\n",
    "for i in range(10):\n",
    "    ths.append(threading.Thread(target = get_title, args = (i, )))\n",
    "\n",
    "for th in ths:\n",
    "    th.start()\n",
    "\n",
    "for th in ths:\n",
    "    th.join()\n",
    "    print(th.get_result())\n",
    "print('thread total', time.time() - start, 'seconds')"
   ]
  },
  {
   "cell_type": "code",
   "execution_count": null,
   "metadata": {},
   "outputs": [],
   "source": [
    "# -*- coding: utf-8 -*-\n",
    "import threading\n",
    "import time\n",
    "\n",
    "\n",
    "class MyThread(threading.Thread):\n",
    "\n",
    "    def __init__(self, func, args=()):\n",
    "        super(MyThread, self).__init__()\n",
    "        self.func = func\n",
    "        self.args = args\n",
    "\n",
    "    def run(self):\n",
    "        self.result = self.func(*self.args)\n",
    "\n",
    "    def get_result(self):\n",
    "        try:\n",
    "            return self.result\n",
    "        except Exception as e:\n",
    "            return None\n",
    "\n",
    "\n",
    "def foo(a, b, c):\n",
    "    time.sleep(1)\n",
    "    return a * 2, b * 2, c * 2\n",
    "\n",
    "\n",
    "st = time.time()\n",
    "li = []\n",
    "for i in range(4):\n",
    "    t = MyThread(foo, args=(i, i + 1, i + 2))\n",
    "    li.append(t)\n",
    "    t.start()\n",
    "\n",
    "for t in li:\n",
    "    t.join()\n",
    "    print t.get_result()\n",
    "\n",
    "et = time.time()\n",
    "print et - st\n"
   ]
  }
 ],
 "metadata": {
  "kernelspec": {
   "display_name": "Python 3",
   "language": "python",
   "name": "python3"
  },
  "language_info": {
   "codemirror_mode": {
    "name": "ipython",
    "version": 3
   },
   "file_extension": ".py",
   "mimetype": "text/x-python",
   "name": "python",
   "nbconvert_exporter": "python",
   "pygments_lexer": "ipython3",
   "version": "3.6.8"
  }
 },
 "nbformat": 4,
 "nbformat_minor": 2
}
