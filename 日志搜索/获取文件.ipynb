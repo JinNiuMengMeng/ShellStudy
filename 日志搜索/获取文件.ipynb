{
 "cells": [
  {
   "cell_type": "code",
   "execution_count": 2,
   "metadata": {},
   "outputs": [],
   "source": [
    "import os"
   ]
  },
  {
   "cell_type": "code",
   "execution_count": 18,
   "metadata": {},
   "outputs": [
    {
     "data": {
      "text/plain": [
       "['获取文件.py.ipynb', 'file3', 'file1', 'file4', 'file5', 'file6', 'file2']"
      ]
     },
     "execution_count": 18,
     "metadata": {},
     "output_type": "execute_result"
    }
   ],
   "source": [
    "[i for i in os.listdir(os.getcwd()) if not os.path.isdir(i)]"
   ]
  },
  {
   "cell_type": "markdown",
   "metadata": {},
   "source": [
    "模块 `os` 中的 `walk()` 函数可以遍历文件夹下所有的文件。<br>\n",
    "`os.walk(top, topdown=Ture, onerror=None, followlinks=False)`<br>\n",
    "该函数可以得到一个三元`tupple(dirpath, dirnames, filenames)`.<br>\n",
    "参数含义：\n",
    "- `dirpath`：`string`，代表目录的路径；\n",
    "- `dirnames`：`list`，包含了当前 `dirpath` 路径下所有的子目录名字（不包含目录路径）；\n",
    "- `filenames`：`list`，包含了当前 `dirpath` 路径下所有的非目录子文件的名字（不包含目录路径）"
   ]
  },
  {
   "cell_type": "code",
   "execution_count": 20,
   "metadata": {},
   "outputs": [
    {
     "name": "stdout",
     "output_type": "stream",
     "text": [
      "filenames:  ['获取文件.py.ipynb', 'file3', 'file1', 'file4', 'file5', 'file6', 'file2']\n"
     ]
    }
   ],
   "source": [
    "for dirpath, dirnames, filenames in os.walk(os.getcwd()):\n",
    "    if dirpath == os.getcwd():  # 排除子文件夹\n",
    "        print(\"filenames: \", filenames)"
   ]
  }
 ],
 "metadata": {
  "kernelspec": {
   "display_name": "Python 3",
   "language": "python",
   "name": "python3"
  },
  "language_info": {
   "codemirror_mode": {
    "name": "ipython",
    "version": 3
   },
   "file_extension": ".py",
   "mimetype": "text/x-python",
   "name": "python",
   "nbconvert_exporter": "python",
   "pygments_lexer": "ipython3",
   "version": "3.6.5"
  }
 },
 "nbformat": 4,
 "nbformat_minor": 2
}
